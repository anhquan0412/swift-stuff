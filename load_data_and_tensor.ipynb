{
 "cells": [
  {
   "cell_type": "code",
   "execution_count": 1,
   "metadata": {
    "colab": {
     "base_uri": "https://localhost:8080/",
     "height": 490
    },
    "colab_type": "code",
    "executionInfo": {
     "elapsed": 26195,
     "status": "ok",
     "timestamp": 1559268405055,
     "user": {
      "displayName": "Quan Tran",
      "photoUrl": "https://lh6.googleusercontent.com/-aVUouAgZ7FM/AAAAAAAAAAI/AAAAAAAAAIs/GMojDUKRi7s/s64/photo.jpg",
      "userId": "13722425728445374451"
     },
     "user_tz": 240
    },
    "id": "wkaBZfA1ANK9",
    "outputId": "73e62190-03ee-46fe-99ad-bc7aec536bfb",
    "scrolled": true
   },
   "outputs": [
    {
     "name": "stdout",
     "output_type": "stream",
     "text": [
      "Installing packages:\n",
      "\t.package(url: \"https://github.com/mxcl/Path.swift\", from: \"0.16.1\")\n",
      "\t\tPath\n",
      "\t.package(url: \"https://github.com/JustHTTP/Just\", from: \"0.7.1\")\n",
      "\t\tJust\n",
      "\t.package(url: \"https://github.com/latenitesoft/NotebookExport\", from: \"0.5.0\")\n",
      "\t\tNotebookExport\n",
      "With SwiftPM flags: []\n",
      "Working in: /tmp/tmpn6xy971q/swift-install\n",
      "/home/qtran/swift/usr/bin/swift-build: /home/qtran/anaconda3/lib/libuuid.so.1: no version information available (required by /home/qtran/swift/usr/lib/swift/linux/libFoundation.so)\n",
      "/home/qtran/swift/usr/bin/swift-build: /home/qtran/anaconda3/lib/libcurl.so.4: no version information available (required by /home/qtran/swift/usr/lib/swift/linux/libFoundation.so)\n",
      "/home/qtran/swift/usr/bin/swiftc: /home/qtran/anaconda3/lib/libuuid.so.1: no version information available (required by /home/qtran/swift/usr/bin/swiftc)\n",
      "Compile Swift Module 'jupyterInstalledPackages' (1 sources)\n",
      "/home/qtran/swift/usr/bin/swiftc: /home/qtran/anaconda3/lib/libuuid.so.1: no version information available (required by /home/qtran/swift/usr/bin/swiftc)\n",
      "\n",
      "/home/qtran/swift/usr/bin/swift: /home/qtran/anaconda3/lib/libuuid.so.1: no version information available (required by /home/qtran/swift/usr/bin/swift)\n",
      "\n",
      "/home/qtran/swift/usr/bin/swift: /home/qtran/anaconda3/lib/libuuid.so.1: no version information available (required by /home/qtran/swift/usr/bin/swift)\n",
      "\n",
      "Initializing Swift...\n",
      "Installation complete!\n"
     ]
    }
   ],
   "source": [
    "%install-location $cwd/swift-install\n",
    "%install '.package(url: \"https://github.com/mxcl/Path.swift\", from: \"0.16.1\")' Path\n",
    "%install '.package(url: \"https://github.com/JustHTTP/Just\", from: \"0.7.1\")' Just\n",
    "%install '.package(url: \"https://github.com/latenitesoft/NotebookExport\", from: \"0.5.0\")' NotebookExport"
   ]
  },
  {
   "cell_type": "markdown",
   "metadata": {
    "colab_type": "text",
    "id": "grx801IEANLD"
   },
   "source": [
    "Currently there's a bug in swift-jupyter which requires we define any custom operators here:"
   ]
  },
  {
   "cell_type": "code",
   "execution_count": 2,
   "metadata": {
    "colab": {},
    "colab_type": "code",
    "collapsed": true,
    "id": "-U5vb5mTANLD"
   },
   "outputs": [],
   "source": [
    "// export\n",
    "precedencegroup ExponentiationPrecedence {\n",
    "    associativity: right\n",
    "    higherThan: MultiplicationPrecedence\n",
    "}\n",
    "infix operator ** : ExponentiationPrecedence\n",
    "\n",
    "precedencegroup CompositionPrecedence { associativity: left }\n",
    "infix operator >| : CompositionPrecedence"
   ]
  },
  {
   "cell_type": "markdown",
   "metadata": {
    "colab_type": "text",
    "id": "pwP4anGHANLF"
   },
   "source": [
    "## Getting the MNIST dataset"
   ]
  },
  {
   "cell_type": "markdown",
   "metadata": {
    "colab_type": "text",
    "id": "pIwysO_6ANLG"
   },
   "source": [
    "- [Just](https://github.com/JustHTTP/Just) does the equivalent of requests in python\n",
    "- [Path](https://github.com/mxcl/Path.swift) is even better than its python counterpart\n",
    "- Foundation is the base library from Apple"
   ]
  },
  {
   "cell_type": "code",
   "execution_count": 4,
   "metadata": {
    "colab": {},
    "colab_type": "code",
    "collapsed": true,
    "id": "zllRwWXXANLG"
   },
   "outputs": [],
   "source": [
    "//export\n",
    "import Foundation\n",
    "import Just\n",
    "import Path"
   ]
  },
  {
   "cell_type": "markdown",
   "metadata": {
    "colab_type": "text",
    "id": "16KvV2noANLI"
   },
   "source": [
    "We will need to gunzip, untar or unzip files we download, so instead of grabbing one library for each, we implement a function that can execute any shell command."
   ]
  },
  {
   "cell_type": "code",
   "execution_count": 4,
   "metadata": {
    "colab": {},
    "colab_type": "code",
    "collapsed": true,
    "id": "QA7Kdl2iANLJ"
   },
   "outputs": [],
   "source": [
    "public extension String {\n",
    "    @discardableResult\n",
    "    func shell(_ args: String...) -> String\n",
    "    {\n",
    "        let (task,pipe) = (Process(),Pipe())\n",
    "        task.executableURL = URL(fileURLWithPath: self)\n",
    "        (task.arguments,task.standardOutput) = (args,pipe)\n",
    "        do    { try task.run() }\n",
    "        catch { print(\"Unexpected error: \\(error).\") }\n",
    "\n",
    "        let data = pipe.fileHandleForReading.readDataToEndOfFile()\n",
    "        return String(data: data, encoding: String.Encoding.utf8) ?? \"\"\n",
    "    }\n",
    "}"
   ]
  },
  {
   "cell_type": "code",
   "execution_count": 5,
   "metadata": {
    "colab": {
     "base_uri": "https://localhost:8080/",
     "height": 85
    },
    "colab_type": "code",
    "executionInfo": {
     "elapsed": 15266,
     "status": "ok",
     "timestamp": 1558707359984,
     "user": {
      "displayName": "Quan Tran",
      "photoUrl": "https://lh6.googleusercontent.com/-aVUouAgZ7FM/AAAAAAAAAAI/AAAAAAAAAIs/GMojDUKRi7s/s64/photo.jpg",
      "userId": "13722425728445374451"
     },
     "user_tz": 240
    },
    "id": "86HQ0NUfANLL",
    "outputId": "aa43a5ed-7ff1-446d-f8e2-397df5147780"
   },
   "outputs": [
    {
     "name": "stdout",
     "output_type": "stream",
     "text": [
      "total 216K\r\n",
      "-rw-rw-r-- 1 qtran qtran  55K Jun 17 22:20 load_data_and_tensor.ipynb\r\n",
      "-rw-rw-r-- 1 qtran qtran  76K Jun 17 22:44 swift_basic.ipynb\r\n",
      "-rw-rw-r-- 1 qtran qtran  80K Jun 17 22:21 Swift for TensorFlow_ walkthrough\r\n",
      "drwxr-xr-x 4 qtran qtran 4.0K Jun 17 22:45 swift-install\r\n",
      "\r\n"
     ]
    }
   ],
   "source": [
    "print(\"/bin/ls\".shell(\"-lh\"))"
   ]
  },
  {
   "cell_type": "markdown",
   "metadata": {
    "colab_type": "text",
    "id": "YRHE62-0ANLO"
   },
   "source": [
    "To download a file, we use the `Just` library."
   ]
  },
  {
   "cell_type": "code",
   "execution_count": 6,
   "metadata": {
    "colab": {},
    "colab_type": "code",
    "collapsed": true,
    "id": "laUAOxmIANLQ"
   },
   "outputs": [],
   "source": [
    "//export\n",
    "public func downloadFile(_ url: String, dest: String? = nil, force: Bool = false) {\n",
    "    let dest_name = dest ?? (Path.cwd/url.split(separator: \"/\").last!).string\n",
    "    let url_dest = URL(fileURLWithPath: (dest ?? (Path.cwd/url.split(separator: \"/\").last!).string))\n",
    "    if !force && Path(dest_name)!.exists { return }\n",
    "\n",
    "    print(\"Downloading \\(url)...\")\n",
    "\n",
    "    if let cts = Just.get(url).content {\n",
    "        do    {try cts.write(to: URL(fileURLWithPath:dest_name))}\n",
    "        catch {print(\"Can't write to \\(url_dest).\\n\\(error)\")}\n",
    "    } else {\n",
    "        print(\"Can't reach \\(url)\")\n",
    "    }\n",
    "}"
   ]
  },
  {
   "cell_type": "code",
   "execution_count": 0,
   "metadata": {
    "colab": {
     "base_uri": "https://localhost:8080/",
     "height": 34
    },
    "colab_type": "code",
    "executionInfo": {
     "elapsed": 1555,
     "status": "ok",
     "timestamp": 1558469353258,
     "user": {
      "displayName": "Quan Tran",
      "photoUrl": "https://lh6.googleusercontent.com/-aVUouAgZ7FM/AAAAAAAAAAI/AAAAAAAAAIs/GMojDUKRi7s/s64/photo.jpg",
      "userId": "13722425728445374451"
     },
     "user_tz": 240
    },
    "id": "5ymi5UaDANLS",
    "outputId": "cabbe755-f594-4f02-d38a-dfb299d8e5d9"
   },
   "outputs": [
    {
     "name": "stdout",
     "output_type": "stream",
     "text": [
      "Downloading https://storage.googleapis.com/cvdf-datasets/mnist/train-images-idx3-ubyte.gz...\r\n"
     ]
    }
   ],
   "source": [
    "// downloadFile(\"https://storage.googleapis.com/cvdf-datasets/mnist/train-images-idx3-ubyte.gz\")"
   ]
  },
  {
   "cell_type": "code",
   "execution_count": 7,
   "metadata": {
    "colab": {},
    "colab_type": "code",
    "collapsed": true,
    "id": "ZwVizM1FANLV"
   },
   "outputs": [],
   "source": [
    "//export\n",
    "import TensorFlow"
   ]
  },
  {
   "cell_type": "markdown",
   "metadata": {
    "colab_type": "text",
    "id": "q__Xo6TvANLW"
   },
   "source": [
    "The following is generic over the element type on the return value.  We could define two functions like this:\n",
    "\n",
    "```swift\n",
    "func loadMNIST(training: Bool, labels: Bool, path: Path, flat: Bool) -> Tensor<Float> {\n",
    "func loadMNIST(training: Bool, labels: Bool, path: Path, flat: Bool) -> Tensor<Int32> {\n",
    "```\n",
    "\n",
    "but that would be boring.  So we make loadMNIST take a \"type parameter\" `T` which indicates what sort of element type to load a tensor into."
   ]
  },
  {
   "cell_type": "code",
   "execution_count": 0,
   "metadata": {
    "colab": {},
    "colab_type": "code",
    "collapsed": true,
    "id": "CVBa0NuKANLX"
   },
   "outputs": [],
   "source": [
    "// func loadMNIST<T>(training: Bool, labels: Bool, path: Path, flat: Bool) -> Tensor<T> {\n",
    "//     let split = training ? \"train\" : \"t10k\" //name of train folder or test (t10k) folder\n",
    "//     let kind = labels ? \"labels\" : \"images\" //image file or label (class) file\n",
    "//     let batch = training ? 60000 : 10000\n",
    "//     let shape: TensorShape = labels ? [batch] : (flat ? [batch, 784] : [batch, 28, 28]) // shape [60000] for label, [60k,784] or [60k,28,28] for img\n",
    "//     let dropK = labels ? 8 : 16 // ?\n",
    "//     let baseUrl = \"https://storage.googleapis.com/cvdf-datasets/mnist/\"\n",
    "//     let fname = split + \"-\" + kind + \"-idx\\(labels ? 1 : 3)-ubyte\"\n",
    "//     let file = path/fname\n",
    "//     if !file.exists { //download correct file based on fname component defined above\n",
    "//         downloadFile(\"\\(baseUrl)\\(fname).gz\", dest:(path/\"\\(fname).gz\").string)\n",
    "//         \"/bin/gunzip\".shell(\"-fq\", (path/\"\\(fname).gz\").string)\n",
    "//     }\n",
    "//     let data = try! Data(contentsOf: URL(fileURLWithPath: file.string)).dropFirst(dropK)\n",
    "//     if labels { return Tensor(data.map(T.init)) }\n",
    "//     else      { return Tensor(data.map(T.init)).reshaped(to: shape)}\n",
    "// }"
   ]
  },
  {
   "cell_type": "markdown",
   "metadata": {
    "colab_type": "text",
    "id": "D-ySeScaANLZ"
   },
   "source": [
    "But this doesn't work because S4TF can't just put any type of data inside a `Tensor`. We have to tell it that this type:\n",
    "- is a type that TF can understand and deal with\n",
    "- is a type that can be applied to the data we read in the byte format\n",
    "\n",
    "We do this by defining a protocol called `ConvertibleFromByte` that inherits from `TensorFlowScalar`. That takes care of the first requirement. The second requirement is dealt with by asking for an `init` method that takes `UInt8`:"
   ]
  },
  {
   "cell_type": "code",
   "execution_count": 8,
   "metadata": {
    "colab": {},
    "colab_type": "code",
    "collapsed": true,
    "id": "yyuD0COHANLa"
   },
   "outputs": [],
   "source": [
    "//export\n",
    "protocol ConvertibleFromByte: TensorFlowScalar {\n",
    "    init(_ d:UInt8)\n",
    "}"
   ]
  },
  {
   "cell_type": "markdown",
   "metadata": {
    "colab_type": "text",
    "id": "kcRvF1ZAANLc"
   },
   "source": [
    "Then we need to say that `Float` and `Int32` conform to that protocol. They already have the right initializer so we don't have to code anything."
   ]
  },
  {
   "cell_type": "code",
   "execution_count": 9,
   "metadata": {
    "colab": {},
    "colab_type": "code",
    "collapsed": true,
    "id": "g_VgQojyANLd"
   },
   "outputs": [],
   "source": [
    "//export\n",
    "extension Float : ConvertibleFromByte {}\n",
    "extension Int32 : ConvertibleFromByte {}"
   ]
  },
  {
   "cell_type": "markdown",
   "metadata": {
    "colab_type": "text",
    "id": "GjbzdCSLANLe"
   },
   "source": [
    "Lastly, we write a convenience method for all types that conform to the `ConvertibleFromByte` protocol, that will convert some raw data to a `Tensor` of that type."
   ]
  },
  {
   "cell_type": "code",
   "execution_count": 10,
   "metadata": {
    "colab": {},
    "colab_type": "code",
    "collapsed": true,
    "id": "zcrWMYRNANLf"
   },
   "outputs": [],
   "source": [
    "//export\n",
    "extension Data {\n",
    "    func asTensor<T:ConvertibleFromByte>() -> Tensor<T> {\n",
    "        return Tensor(map(T.init))\n",
    "    }\n",
    "}"
   ]
  },
  {
   "cell_type": "markdown",
   "metadata": {
    "colab_type": "text",
    "id": "e2aQgxPlANLh"
   },
   "source": [
    "And now we can write a generic `loadMNIST` function that can returns tensors of `Float` or `Int32`."
   ]
  },
  {
   "cell_type": "code",
   "execution_count": 11,
   "metadata": {
    "colab": {},
    "colab_type": "code",
    "collapsed": true,
    "id": "BlzraF8TANLh"
   },
   "outputs": [],
   "source": [
    "//export\n",
    "func loadMNIST<T: ConvertibleFromByte>\n",
    "            (training: Bool, labels: Bool, path: Path, flat: Bool) -> Tensor<T> {\n",
    "    let split = training ? \"train\" : \"t10k\" //name of train folder or test (t10k) folder\n",
    "    let kind = labels ? \"labels\" : \"images\" //image file or label (class) file\n",
    "    let batch = training ? 60000 : 10000\n",
    "    let shape: TensorShape = labels ? [batch] : (flat ? [batch, 784] : [batch, 28, 28])\n",
    "    let dropK = labels ? 8 : 16\n",
    "    let baseUrl = \"https://storage.googleapis.com/cvdf-datasets/mnist/\"\n",
    "    let fname = split + \"-\" + kind + \"-idx\\(labels ? 1 : 3)-ubyte\"\n",
    "    let file = path/fname\n",
    "    if !file.exists { //download correct file based on fname component defined above\n",
    "        downloadFile(\"\\(baseUrl)\\(fname).gz\", dest:(path/\"\\(fname).gz\").string)\n",
    "        \"/bin/gunzip\".shell(\"-fq\", (path/\"\\(fname).gz\").string)\n",
    "    }\n",
    "    let data = try! Data(contentsOf: URL(fileURLWithPath: file.string)).dropFirst(dropK)\n",
    "    if labels { return data.asTensor() }\n",
    "    else      { return data.asTensor().reshaped(to: shape)}\n",
    "}\n",
    "\n",
    "public func loadMNIST(path:Path, flat:Bool = false)\n",
    "        -> (Tensor<Float>, Tensor<Int32>, Tensor<Float>, Tensor<Int32>) {\n",
    "    try! path.mkdir(.p)\n",
    "    return (\n",
    "        loadMNIST(training: true,  labels: false, path: path, flat: flat) / 255.0,\n",
    "        loadMNIST(training: true,  labels: true,  path: path, flat: flat),\n",
    "        loadMNIST(training: false, labels: false, path: path, flat: flat) / 255.0,\n",
    "        loadMNIST(training: false, labels: true,  path: path, flat: flat)\n",
    "    )\n",
    "}"
   ]
  },
  {
   "cell_type": "markdown",
   "metadata": {
    "colab_type": "text",
    "id": "gw5JYrWlANLk"
   },
   "source": [
    "We will store mnist in this folder so that we don't download it each time we run a notebook:"
   ]
  },
  {
   "cell_type": "code",
   "execution_count": 12,
   "metadata": {
    "colab": {},
    "colab_type": "code",
    "collapsed": true,
    "id": "so7zgdwaANLk"
   },
   "outputs": [],
   "source": [
    "//export\n",
    "public let mnistPath = Path.home/\".fastai\"/\"data\"/\"mnist_tst\""
   ]
  },
  {
   "cell_type": "code",
   "execution_count": 13,
   "metadata": {
    "colab": {
     "base_uri": "https://localhost:8080/",
     "height": 34
    },
    "colab_type": "code",
    "executionInfo": {
     "elapsed": 1714,
     "status": "ok",
     "timestamp": 1558707362249,
     "user": {
      "displayName": "Quan Tran",
      "photoUrl": "https://lh6.googleusercontent.com/-aVUouAgZ7FM/AAAAAAAAAAI/AAAAAAAAAIs/GMojDUKRi7s/s64/photo.jpg",
      "userId": "13722425728445374451"
     },
     "user_tz": 240
    },
    "id": "rpHi9DunFPa2",
    "outputId": "efcb99fa-f7c0-44fb-8b28-b14552b87a9a"
   },
   "outputs": [
    {
     "name": "stdout",
     "output_type": "stream",
     "text": [
      "/home/qtran/.fastai/data/mnist_tst\r\n"
     ]
    }
   ],
   "source": [
    "print(mnistPath)"
   ]
  },
  {
   "cell_type": "markdown",
   "metadata": {
    "colab_type": "text",
    "id": "dUC1t0pDANLn"
   },
   "source": [
    "The default returns mnist in the image format:"
   ]
  },
  {
   "cell_type": "code",
   "execution_count": 14,
   "metadata": {
    "colab": {
     "base_uri": "https://localhost:8080/",
     "height": 170
    },
    "colab_type": "code",
    "executionInfo": {
     "elapsed": 6663,
     "status": "ok",
     "timestamp": 1558707368249,
     "user": {
      "displayName": "Quan Tran",
      "photoUrl": "https://lh6.googleusercontent.com/-aVUouAgZ7FM/AAAAAAAAAAI/AAAAAAAAAIs/GMojDUKRi7s/s64/photo.jpg",
      "userId": "13722425728445374451"
     },
     "user_tz": 240
    },
    "id": "9PP1GE29ANLo",
    "outputId": "dae4a483-d29b-4e78-b741-802ff146ca97"
   },
   "outputs": [
    {
     "name": "stdout",
     "output_type": "stream",
     "text": [
      "2019-06-17 22:46:43.087880: W tensorflow/core/framework/allocator.cc:122] Allocation of 188160000 exceeds 10% of system memory.\n",
      "2019-06-17 22:46:43.261133: I tensorflow/core/platform/cpu_feature_guard.cc:142] Your CPU supports instructions that this TensorFlow binary was not compiled to use: SSE4.1 SSE4.2 AVX AVX2 FMA\n",
      "2019-06-17 22:46:43.312517: I tensorflow/core/platform/profile_utils/cpu_utils.cc:94] CPU Frequency: 1696090000 Hz\n",
      "2019-06-17 22:46:43.321528: W tensorflow/core/framework/allocator.cc:122] Allocation of 188160000 exceeds 10% of system memory.\n"
     ]
    },
    {
     "data": {
      "text/plain": [
       "▿ [60000, 28, 28]\n",
       "  ▿ dimensions : 3 elements\n",
       "    - 0 : 60000\n",
       "    - 1 : 28\n",
       "    - 2 : 28\n"
      ]
     },
     "execution_count": 14,
     "metadata": {},
     "output_type": "execute_result"
    }
   ],
   "source": [
    "let (xTrain, yTrain, xValid, yValid) = loadMNIST(path: mnistPath)\n",
    "xTrain.shape"
   ]
  },
  {
   "cell_type": "markdown",
   "metadata": {
    "colab_type": "text",
    "id": "DAx3DLd7ANLr"
   },
   "source": [
    "We can also ask for it in its flattened form:"
   ]
  },
  {
   "cell_type": "code",
   "execution_count": 15,
   "metadata": {
    "colab": {
     "base_uri": "https://localhost:8080/",
     "height": 85
    },
    "colab_type": "code",
    "executionInfo": {
     "elapsed": 6383,
     "status": "ok",
     "timestamp": 1558471562122,
     "user": {
      "displayName": "Quan Tran",
      "photoUrl": "https://lh6.googleusercontent.com/-aVUouAgZ7FM/AAAAAAAAAAI/AAAAAAAAAIs/GMojDUKRi7s/s64/photo.jpg",
      "userId": "13722425728445374451"
     },
     "user_tz": 240
    },
    "id": "EuRImLezANLs",
    "outputId": "7de157a3-485d-4525-f2b9-aa0e1d0b3f8f"
   },
   "outputs": [
    {
     "name": "stdout",
     "output_type": "stream",
     "text": [
      "2019-06-17 22:46:57.395684: W tensorflow/core/framework/allocator.cc:122] Allocation of 188160000 exceeds 10% of system memory.\n",
      "2019-06-17 22:46:57.619604: W tensorflow/core/framework/allocator.cc:122] Allocation of 188160000 exceeds 10% of system memory.\n"
     ]
    },
    {
     "data": {
      "text/plain": [
       "▿ [60000, 784]\n",
       "  ▿ dimensions : 2 elements\n",
       "    - 0 : 60000\n",
       "    - 1 : 784\n"
      ]
     },
     "execution_count": 15,
     "metadata": {},
     "output_type": "execute_result"
    }
   ],
   "source": [
    "let (xTrain, yTrain, xValid, yValid) = loadMNIST(path: mnistPath, flat: true)\n",
    "xTrain.shape"
   ]
  },
  {
   "cell_type": "code",
   "execution_count": 16,
   "metadata": {
    "colab": {
     "base_uri": "https://localhost:8080/",
     "height": 51
    },
    "colab_type": "code",
    "executionInfo": {
     "elapsed": 3946,
     "status": "ok",
     "timestamp": 1558471562123,
     "user": {
      "displayName": "Quan Tran",
      "photoUrl": "https://lh6.googleusercontent.com/-aVUouAgZ7FM/AAAAAAAAAAI/AAAAAAAAAIs/GMojDUKRi7s/s64/photo.jpg",
      "userId": "13722425728445374451"
     },
     "user_tz": 240
    },
    "id": "i4K0L5qjFiqf",
    "outputId": "ebfc13fa-5225-492e-8d91-31b2561c412e"
   },
   "outputs": [
    {
     "name": "stdout",
     "output_type": "stream",
     "text": [
      "Tensor<Float>\r\n",
      "Tensor<Int32>\r\n"
     ]
    }
   ],
   "source": [
    "print(type(of: xTrain))\n",
    "print(type(of: yTrain))"
   ]
  },
  {
   "cell_type": "markdown",
   "metadata": {
    "colab_type": "text",
    "id": "CXHYyFqCANLu"
   },
   "source": [
    "## Timing"
   ]
  },
  {
   "cell_type": "markdown",
   "metadata": {
    "colab_type": "text",
    "id": "7906h6wrANLv"
   },
   "source": [
    "Here is our time function:"
   ]
  },
  {
   "cell_type": "code",
   "execution_count": 17,
   "metadata": {
    "colab": {},
    "colab_type": "code",
    "collapsed": true,
    "id": "GvZzhKItANLv"
   },
   "outputs": [],
   "source": [
    "//export \n",
    "\n",
    "//TODO\n",
    "\n",
    "\n",
    "import Dispatch\n",
    "\n",
    "// ⏰Time how long it takes to run the specified function, optionally taking\n",
    "// the average across a number of repetitions.\n",
    "public func time(repeating: Int = 1, _ f: () -> ()) {\n",
    "    guard repeating > 0 else { return }\n",
    "    \n",
    "    // Warmup\n",
    "    if repeating > 1 { f() }\n",
    "    \n",
    "    var times = [Double]()\n",
    "    for _ in 1...repeating {\n",
    "        let start = DispatchTime.now()\n",
    "        f()\n",
    "        let end = DispatchTime.now()\n",
    "        let nanoseconds = Double(end.uptimeNanoseconds - start.uptimeNanoseconds)\n",
    "        let milliseconds = nanoseconds / 1e6\n",
    "        times.append(milliseconds)\n",
    "    }\n",
    "    print(\"average: \\(times.reduce(0.0, +)/Double(times.count)) ms,   \" +\n",
    "          \"min: \\(times.reduce(times[0], min)) ms,   \" +\n",
    "          \"max: \\(times.reduce(times[0], max)) ms\")\n",
    "}"
   ]
  },
  {
   "cell_type": "code",
   "execution_count": 18,
   "metadata": {
    "colab": {
     "base_uri": "https://localhost:8080/",
     "height": 34
    },
    "colab_type": "code",
    "executionInfo": {
     "elapsed": 3627,
     "status": "ok",
     "timestamp": 1558707762275,
     "user": {
      "displayName": "Quan Tran",
      "photoUrl": "https://lh6.googleusercontent.com/-aVUouAgZ7FM/AAAAAAAAAAI/AAAAAAAAAIs/GMojDUKRi7s/s64/photo.jpg",
      "userId": "13722425728445374451"
     },
     "user_tz": 240
    },
    "id": "y-El0q2JANLx",
    "outputId": "cc23e712-d597-4cd9-d47b-3849e54337d6"
   },
   "outputs": [
    {
     "name": "stdout",
     "output_type": "stream",
     "text": [
      "average: 416.30038449999995 ms,   min: 413.60394 ms,   max: 421.767481 ms\r\n"
     ]
    }
   ],
   "source": [
    "time(repeating: 10) {\n",
    "    _ = loadMNIST(training: false, labels: false, path: mnistPath, flat: false) as Tensor<Float>\n",
    "}"
   ]
  },
  {
   "cell_type": "markdown",
   "metadata": {
    "colab_type": "text",
    "id": "AfIzDbB1OPiC"
   },
   "source": [
    "# Experiment with Tensor "
   ]
  },
  {
   "cell_type": "code",
   "execution_count": 19,
   "metadata": {
    "colab": {},
    "colab_type": "code",
    "collapsed": true,
    "id": "LfyUPseJOS6n"
   },
   "outputs": [],
   "source": [
    "let zeros = Tensor<Float>(zeros: [1,4,5])\n",
    "let ones  = Tensor<Float>(ones: [12,4,5])\n",
    "let twos  = Tensor<Float>(repeating: 2.0, shape: [2,3,4,5])\n",
    "let range = Tensor<Int32>(rangeFrom: 0, to: 32, stride: 1)"
   ]
  },
  {
   "cell_type": "code",
   "execution_count": 20,
   "metadata": {
    "colab": {
     "base_uri": "https://localhost:8080/",
     "height": 34
    },
    "colab_type": "code",
    "executionInfo": {
     "elapsed": 1233,
     "status": "ok",
     "timestamp": 1558725568988,
     "user": {
      "displayName": "Quan Tran",
      "photoUrl": "https://lh6.googleusercontent.com/-aVUouAgZ7FM/AAAAAAAAAAI/AAAAAAAAAIs/GMojDUKRi7s/s64/photo.jpg",
      "userId": "13722425728445374451"
     },
     "user_tz": 240
    },
    "id": "pQOv7MacTvDa",
    "outputId": "1b0175c6-5ad0-4f11-c318-6b2920dcefe1"
   },
   "outputs": [
    {
     "name": "stdout",
     "output_type": "stream",
     "text": [
      "[2, 3, 4, 5]\r\n"
     ]
    }
   ],
   "source": [
    "print(twos.shape)"
   ]
  },
  {
   "cell_type": "code",
   "execution_count": 0,
   "metadata": {
    "colab": {
     "base_uri": "https://localhost:8080/",
     "height": 51
    },
    "colab_type": "code",
    "executionInfo": {
     "elapsed": 617,
     "status": "ok",
     "timestamp": 1558725571459,
     "user": {
      "displayName": "Quan Tran",
      "photoUrl": "https://lh6.googleusercontent.com/-aVUouAgZ7FM/AAAAAAAAAAI/AAAAAAAAAIs/GMojDUKRi7s/s64/photo.jpg",
      "userId": "13722425728445374451"
     },
     "user_tz": 240
    },
    "id": "hwH20Z8MUIIg",
    "outputId": "f26d2425-4277-47d9-a1af-f94df2e29b19"
   },
   "outputs": [
    {
     "name": "stdout",
     "output_type": "stream",
     "text": [
      "Tensor<Float>\r\n",
      "TensorShape\r\n"
     ]
    }
   ],
   "source": [
    "print(type(of: twos))\n",
    "print(type(of: twos.shape))"
   ]
  },
  {
   "cell_type": "code",
   "execution_count": 0,
   "metadata": {
    "colab": {
     "base_uri": "https://localhost:8080/",
     "height": 34
    },
    "colab_type": "code",
    "executionInfo": {
     "elapsed": 245,
     "status": "ok",
     "timestamp": 1558725572074,
     "user": {
      "displayName": "Quan Tran",
      "photoUrl": "https://lh6.googleusercontent.com/-aVUouAgZ7FM/AAAAAAAAAAI/AAAAAAAAAIs/GMojDUKRi7s/s64/photo.jpg",
      "userId": "13722425728445374451"
     },
     "user_tz": 240
    },
    "id": "xe2esxaGUBBo",
    "outputId": "e7f98372-1e6b-4350-bf0f-f28a492da8d3"
   },
   "outputs": [
    {
     "name": "stdout",
     "output_type": "stream",
     "text": [
      "[ 0,  1,  2,  3,  4,  5,  6,  7,  8,  9, 10, 11, 12, 13, 14, 15, 16, 17, 18, 19, 20, 21, 22, 23, 24, 25, 26, 27, 28, 29, 30, 31]\r\n"
     ]
    }
   ],
   "source": [
    "print(range)"
   ]
  },
  {
   "cell_type": "code",
   "execution_count": 21,
   "metadata": {
    "colab": {
     "base_uri": "https://localhost:8080/",
     "height": 85
    },
    "colab_type": "code",
    "executionInfo": {
     "elapsed": 1557,
     "status": "ok",
     "timestamp": 1558725635336,
     "user": {
      "displayName": "Quan Tran",
      "photoUrl": "https://lh6.googleusercontent.com/-aVUouAgZ7FM/AAAAAAAAAAI/AAAAAAAAAIs/GMojDUKRi7s/s64/photo.jpg",
      "userId": "13722425728445374451"
     },
     "user_tz": 240
    },
    "id": "Bn-g6cbGSL-n",
    "outputId": "72ed845d-e25e-41b6-f8a0-0a1fd6988835"
   },
   "outputs": [
    {
     "data": {
      "text/plain": [
       "[[1.0, 1.0, 1.0, 1.0, 1.0],\n",
       " [1.0, 1.0, 1.0, 1.0, 1.0],\n",
       " [1.0, 1.0, 1.0, 1.0, 1.0],\n",
       " [1.0, 1.0, 1.0, 1.0, 1.0]]\n"
      ]
     },
     "execution_count": 21,
     "metadata": {},
     "output_type": "execute_result"
    }
   ],
   "source": [
    "zeros[0]+1"
   ]
  },
  {
   "cell_type": "code",
   "execution_count": 22,
   "metadata": {
    "colab": {
     "base_uri": "https://localhost:8080/",
     "height": 51
    },
    "colab_type": "code",
    "executionInfo": {
     "elapsed": 1426,
     "status": "ok",
     "timestamp": 1558726033686,
     "user": {
      "displayName": "Quan Tran",
      "photoUrl": "https://lh6.googleusercontent.com/-aVUouAgZ7FM/AAAAAAAAAAI/AAAAAAAAAIs/GMojDUKRi7s/s64/photo.jpg",
      "userId": "13722425728445374451"
     },
     "user_tz": 240
    },
    "id": "EX1jDxQsTdr9",
    "outputId": "68a21492-0ddf-429b-ac25-58de237eea24"
   },
   "outputs": [
    {
     "name": "stdout",
     "output_type": "stream",
     "text": [
      "[-0.014152822, -0.033161078,  0.009075283,  0.003997042,  -0.06525668,  0.041842468,\r\n",
      "  0.027588418,  0.015348827, -0.055493403, -0.036986433]\r\n"
     ]
    }
   ],
   "source": [
    "let xTrain = Tensor<Float>(randomNormal: [5, 784])\n",
    "var weights = Tensor<Float>(randomNormal: [784, 10]) / sqrt(784) // Xavier\n",
    "print(weights[0])"
   ]
  },
  {
   "cell_type": "code",
   "execution_count": 23,
   "metadata": {
    "colab": {},
    "colab_type": "code",
    "collapsed": true,
    "id": "ywrQhxpjT7sL"
   },
   "outputs": [],
   "source": [
    "let temp = matmul(xTrain,weights) //built in matmul, not the one we created"
   ]
  },
  {
   "cell_type": "code",
   "execution_count": 24,
   "metadata": {
    "colab": {},
    "colab_type": "code",
    "collapsed": true,
    "id": "53zOjqVqULsQ"
   },
   "outputs": [],
   "source": [
    "let temp = xTrain • weights"
   ]
  },
  {
   "cell_type": "code",
   "execution_count": 25,
   "metadata": {
    "colab": {
     "base_uri": "https://localhost:8080/",
     "height": 34
    },
    "colab_type": "code",
    "executionInfo": {
     "elapsed": 396,
     "status": "ok",
     "timestamp": 1558726080702,
     "user": {
      "displayName": "Quan Tran",
      "photoUrl": "https://lh6.googleusercontent.com/-aVUouAgZ7FM/AAAAAAAAAAI/AAAAAAAAAIs/GMojDUKRi7s/s64/photo.jpg",
      "userId": "13722425728445374451"
     },
     "user_tz": 240
    },
    "id": "DJ5-pZsSUCvf",
    "outputId": "3b381a0c-140a-4451-ec86-009546b9402d"
   },
   "outputs": [
    {
     "name": "stdout",
     "output_type": "stream",
     "text": [
      "average: 0.01866068 ms,   min: 0.017822 ms,   max: 0.050638 ms\r\n"
     ]
    }
   ],
   "source": [
    "time(repeating: 100) {\n",
    "    _ = matmul(xTrain,weights)\n",
    "}"
   ]
  },
  {
   "cell_type": "code",
   "execution_count": 26,
   "metadata": {
    "colab": {
     "base_uri": "https://localhost:8080/",
     "height": 34
    },
    "colab_type": "code",
    "executionInfo": {
     "elapsed": 1915,
     "status": "ok",
     "timestamp": 1558726444829,
     "user": {
      "displayName": "Quan Tran",
      "photoUrl": "https://lh6.googleusercontent.com/-aVUouAgZ7FM/AAAAAAAAAAI/AAAAAAAAAIs/GMojDUKRi7s/s64/photo.jpg",
      "userId": "13722425728445374451"
     },
     "user_tz": 240
    },
    "id": "G5Ob54WUVFIG",
    "outputId": "11beefa6-b498-41e8-adbc-85cdc39385d1"
   },
   "outputs": [
    {
     "name": "stdout",
     "output_type": "stream",
     "text": [
      "[3920]\r\n"
     ]
    }
   ],
   "source": [
    "let xTrainFlatten = Tensor<Float>(xTrain.scalars)\n",
    "print(xTrainFlatten.shape)"
   ]
  },
  {
   "cell_type": "code",
   "execution_count": 27,
   "metadata": {
    "colab": {
     "base_uri": "https://localhost:8080/",
     "height": 34
    },
    "colab_type": "code",
    "executionInfo": {
     "elapsed": 1085,
     "status": "ok",
     "timestamp": 1558726498035,
     "user": {
      "displayName": "Quan Tran",
      "photoUrl": "https://lh6.googleusercontent.com/-aVUouAgZ7FM/AAAAAAAAAAI/AAAAAAAAAIs/GMojDUKRi7s/s64/photo.jpg",
      "userId": "13722425728445374451"
     },
     "user_tz": 240
    },
    "id": "C064x4SQVSrO",
    "outputId": "0002292e-4f6c-4cdc-a254-625dbbac59a7"
   },
   "outputs": [
    {
     "name": "stdout",
     "output_type": "stream",
     "text": [
      "[5, 784]\r\n"
     ]
    }
   ],
   "source": [
    "let xTrain = xTrainFlatten.reshaped(to: [5,784])\n",
    "print(xTrain.shape)"
   ]
  },
  {
   "cell_type": "markdown",
   "metadata": {
    "colab_type": "text",
    "id": "BkBEr1d1W0oN"
   },
   "source": [
    "## Other arithmetic"
   ]
  },
  {
   "cell_type": "code",
   "execution_count": 0,
   "metadata": {
    "colab": {
     "base_uri": "https://localhost:8080/",
     "height": 51
    },
    "colab_type": "code",
    "executionInfo": {
     "elapsed": 713,
     "status": "ok",
     "timestamp": 1558726559822,
     "user": {
      "displayName": "Quan Tran",
      "photoUrl": "https://lh6.googleusercontent.com/-aVUouAgZ7FM/AAAAAAAAAAI/AAAAAAAAAIs/GMojDUKRi7s/s64/photo.jpg",
      "userId": "13722425728445374451"
     },
     "user_tz": 240
    },
    "id": "GpWUbrTXVnH_",
    "outputId": "ee6eda19-509b-4578-c27d-fd818b6ee561"
   },
   "outputs": [
    {
     "name": "stdout",
     "output_type": "stream",
     "text": [
      "[[ 1.0,  4.0],\r\n",
      " [ 9.0, 16.0]]\r\n"
     ]
    }
   ],
   "source": [
    "let small = Tensor<Float>([[1, 2],\n",
    "                           [3, 4]])\n",
    "print(pow(small,2))"
   ]
  },
  {
   "cell_type": "code",
   "execution_count": 0,
   "metadata": {
    "colab": {
     "base_uri": "https://localhost:8080/",
     "height": 51
    },
    "colab_type": "code",
    "executionInfo": {
     "elapsed": 1080,
     "status": "ok",
     "timestamp": 1558726598386,
     "user": {
      "displayName": "Quan Tran",
      "photoUrl": "https://lh6.googleusercontent.com/-aVUouAgZ7FM/AAAAAAAAAAI/AAAAAAAAAIs/GMojDUKRi7s/s64/photo.jpg",
      "userId": "13722425728445374451"
     },
     "user_tz": 240
    },
    "id": "DjnP2B5sV9oi",
    "outputId": "ee1746be-6158-44dd-db5e-de5fb100672a"
   },
   "outputs": [
    {
     "data": {
      "text/plain": [
       "[[1.0, 2.0],\n",
       " [3.0, 4.0]]\n"
      ]
     },
     "execution_count": 100,
     "metadata": {
      "tags": []
     },
     "output_type": "execute_result"
    }
   ],
   "source": [
    "sqrt(pow(small,2))"
   ]
  },
  {
   "cell_type": "code",
   "execution_count": 0,
   "metadata": {
    "colab": {
     "base_uri": "https://localhost:8080/",
     "height": 34
    },
    "colab_type": "code",
    "executionInfo": {
     "elapsed": 1081,
     "status": "ok",
     "timestamp": 1558726624994,
     "user": {
      "displayName": "Quan Tran",
      "photoUrl": "https://lh6.googleusercontent.com/-aVUouAgZ7FM/AAAAAAAAAAI/AAAAAAAAAIs/GMojDUKRi7s/s64/photo.jpg",
      "userId": "13722425728445374451"
     },
     "user_tz": 240
    },
    "id": "FIMK3OiKWHlb",
    "outputId": "cdac25b8-7e3b-4839-8ecc-2163e53e21e8"
   },
   "outputs": [
    {
     "data": {
      "text/plain": [
       "[[4.0, 6.0]]\n"
      ]
     },
     "execution_count": 101,
     "metadata": {
      "tags": []
     },
     "output_type": "execute_result"
    }
   ],
   "source": [
    "small.sum(alongAxes: 0)"
   ]
  },
  {
   "cell_type": "code",
   "execution_count": 0,
   "metadata": {
    "colab": {
     "base_uri": "https://localhost:8080/",
     "height": 51
    },
    "colab_type": "code",
    "executionInfo": {
     "elapsed": 1020,
     "status": "ok",
     "timestamp": 1558726635369,
     "user": {
      "displayName": "Quan Tran",
      "photoUrl": "https://lh6.googleusercontent.com/-aVUouAgZ7FM/AAAAAAAAAAI/AAAAAAAAAIs/GMojDUKRi7s/s64/photo.jpg",
      "userId": "13722425728445374451"
     },
     "user_tz": 240
    },
    "id": "9dli6c4lWMJY",
    "outputId": "7858fae8-fb7f-4937-a092-1a18e466f9d7"
   },
   "outputs": [
    {
     "data": {
      "text/plain": [
       "[[3.0],\n",
       " [7.0]]\n"
      ]
     },
     "execution_count": 102,
     "metadata": {
      "tags": []
     },
     "output_type": "execute_result"
    }
   ],
   "source": [
    "small.sum(alongAxes: 1)"
   ]
  },
  {
   "cell_type": "code",
   "execution_count": 0,
   "metadata": {
    "colab": {
     "base_uri": "https://localhost:8080/",
     "height": 51
    },
    "colab_type": "code",
    "executionInfo": {
     "elapsed": 1238,
     "status": "ok",
     "timestamp": 1558726782249,
     "user": {
      "displayName": "Quan Tran",
      "photoUrl": "https://lh6.googleusercontent.com/-aVUouAgZ7FM/AAAAAAAAAAI/AAAAAAAAAIs/GMojDUKRi7s/s64/photo.jpg",
      "userId": "13722425728445374451"
     },
     "user_tz": 240
    },
    "id": "wuJ_BQfcWSHq",
    "outputId": "f3a3b5bc-ec7e-48de-da26-19899a104f64"
   },
   "outputs": [
    {
     "name": "stdout",
     "output_type": "stream",
     "text": [
      "[2, 1, 4]\r\n",
      "[2, 4]\r\n"
     ]
    }
   ],
   "source": [
    "let temp = Tensor<Float>(ones: [2,3,4])\n",
    "print(temp.sum(alongAxes: 1).shape)\n",
    "print(temp.sum(squeezingAxes: 1).shape)"
   ]
  },
  {
   "cell_type": "code",
   "execution_count": 0,
   "metadata": {
    "colab": {},
    "colab_type": "code",
    "collapsed": true,
    "id": "9UfTrOnVWcc0"
   },
   "outputs": [],
   "source": [
    "var a = Tensor([10.0, 6, -4])\n",
    "var b = Tensor([2.0, 8, 7]) "
   ]
  },
  {
   "cell_type": "code",
   "execution_count": 0,
   "metadata": {
    "colab": {
     "base_uri": "https://localhost:8080/",
     "height": 34
    },
    "colab_type": "code",
    "executionInfo": {
     "elapsed": 1004,
     "status": "ok",
     "timestamp": 1558727892468,
     "user": {
      "displayName": "Quan Tran",
      "photoUrl": "https://lh6.googleusercontent.com/-aVUouAgZ7FM/AAAAAAAAAAI/AAAAAAAAAIs/GMojDUKRi7s/s64/photo.jpg",
      "userId": "13722425728445374451"
     },
     "user_tz": 240
    },
    "id": "huJ4mxMza4J6",
    "outputId": "fd763971-596b-40a1-ca61-cebc78e3be6c"
   },
   "outputs": [
    {
     "data": {
      "text/plain": [
       "false\n"
      ]
     },
     "execution_count": 113,
     "metadata": {
      "tags": []
     },
     "output_type": "execute_result"
    }
   ],
   "source": [
    "a<b"
   ]
  },
  {
   "cell_type": "code",
   "execution_count": 0,
   "metadata": {
    "colab": {
     "base_uri": "https://localhost:8080/",
     "height": 68
    },
    "colab_type": "code",
    "executionInfo": {
     "elapsed": 856,
     "status": "ok",
     "timestamp": 1558728020804,
     "user": {
      "displayName": "Quan Tran",
      "photoUrl": "https://lh6.googleusercontent.com/-aVUouAgZ7FM/AAAAAAAAAAI/AAAAAAAAAIs/GMojDUKRi7s/s64/photo.jpg",
      "userId": "13722425728445374451"
     },
     "user_tz": 240
    },
    "id": "wM6nt0thbBm0",
    "outputId": "8a501787-3e67-4c93-d529-6c24a0a7f535"
   },
   "outputs": [
    {
     "name": "stdout",
     "output_type": "stream",
     "text": [
      "[false,  true,  true]\r\n",
      "false\r\n",
      "true\r\n"
     ]
    }
   ],
   "source": [
    "// elementwise operation\n",
    "print(a .< b)\n",
    "//merge boolean\n",
    "print((a.<b).all()) //AND \n",
    "print((a.<b).any()) //OR"
   ]
  },
  {
   "cell_type": "markdown",
   "metadata": {
    "colab_type": "text",
    "id": "Qc7-rw_7bfcj"
   },
   "source": [
    "## Broadcasting/ Adding None axis"
   ]
  },
  {
   "cell_type": "code",
   "execution_count": 0,
   "metadata": {
    "colab": {
     "base_uri": "https://localhost:8080/",
     "height": 68
    },
    "colab_type": "code",
    "executionInfo": {
     "elapsed": 1773,
     "status": "ok",
     "timestamp": 1558728165329,
     "user": {
      "displayName": "Quan Tran",
      "photoUrl": "https://lh6.googleusercontent.com/-aVUouAgZ7FM/AAAAAAAAAAI/AAAAAAAAAIs/GMojDUKRi7s/s64/photo.jpg",
      "userId": "13722425728445374451"
     },
     "user_tz": 240
    },
    "id": "szMyMLsUbtLQ",
    "outputId": "3a977479-8a09-4842-aebf-0e0b31c4547c"
   },
   "outputs": [
    {
     "data": {
      "text/plain": [
       "[[3.0, 3.0, 3.0, 3.0],\n",
       " [3.0, 3.0, 3.0, 3.0],\n",
       " [3.0, 3.0, 3.0, 3.0]]\n"
      ]
     },
     "execution_count": 126,
     "metadata": {
      "tags": []
     },
     "output_type": "execute_result"
    }
   ],
   "source": [
    "var a = Tensor<Float>(ones: [3,4])\n",
    "a+2"
   ]
  },
  {
   "cell_type": "code",
   "execution_count": 0,
   "metadata": {
    "colab": {
     "base_uri": "https://localhost:8080/",
     "height": 350
    },
    "colab_type": "code",
    "executionInfo": {
     "elapsed": 812,
     "status": "error",
     "timestamp": 1558728200519,
     "user": {
      "displayName": "Quan Tran",
      "photoUrl": "https://lh6.googleusercontent.com/-aVUouAgZ7FM/AAAAAAAAAAI/AAAAAAAAAIs/GMojDUKRi7s/s64/photo.jpg",
      "userId": "13722425728445374451"
     },
     "user_tz": 240
    },
    "id": "3moGvnrPb3m7",
    "outputId": "be71dea8-1851-4a9e-bd18-386449b3ae17"
   },
   "outputs": [
    {
     "name": "stdout",
     "output_type": "stream",
     "text": [
      "[1, 3, 4]\r\n",
      "[3, 1, 4]\r\n",
      "[3, 4, 1]\r\n",
      "Fatal error: Tried to expand dim index 3 for tensor with 2 dimensions.: file /swift-base/swift/stdlib/public/TensorFlow/CompilerRuntime.swift, line 2123\r\n",
      "Current stack trace:\r\n",
      "0    libswiftCore.so                    0x00007fb130b654a0 _swift_stdlib_reportFatalErrorInFile + 115\r\n",
      "1    libswiftCore.so                    0x00007fb130aad30c <unavailable> + 3035916\r\n",
      "2    libswiftCore.so                    0x00007fb130aad3fe <unavailable> + 3036158\r\n",
      "3    libswiftCore.so                    0x00007fb1308f46c2 <unavailable> + 1230530\r\n",
      "4    libswiftCore.so                    0x00007fb130a7a292 <unavailable> + 2826898\r\n",
      "5    libswiftCore.so                    0x00007fb1308f3ba9 <unavailable> + 1227689\r\n",
      "6    libswiftTensorFlow.so              0x00007fb12d022572 <unavailable> + 599410\r\n",
      "7    libswiftTensorFlow.so              0x00007fb12d020cc0 checkOk(_:file:line:) + 508\r\n",
      "8    libswiftTensorFlow.so              0x00007fb12d045ad0 _TFCCheckOk(_:) + 81\r\n",
      "9    libswiftTensorFlow.so              0x00007fb12d045ac0 _swift_tfc_CheckOk + 9\r\n"
     ]
    },
    {
     "ename": "",
     "evalue": "ignored",
     "output_type": "error",
     "traceback": [
      "Current stack trace:",
      "\tframe #9: 0x00007fb11461c442 $__lldb_expr935`main at <Cell 130>:4"
     ]
    }
   ],
   "source": [
    "print(a.expandingShape(at: 0).shape)\n",
    "print(a.expandingShape(at: 1).shape)\n",
    "print(a.expandingShape(at: 2).shape)\n",
    "print(a.expandingShape(at: 3).shape)"
   ]
  },
  {
   "cell_type": "code",
   "execution_count": 0,
   "metadata": {
    "colab": {
     "base_uri": "https://localhost:8080/",
     "height": 51
    },
    "colab_type": "code",
    "executionInfo": {
     "elapsed": 1136,
     "status": "ok",
     "timestamp": 1558731570693,
     "user": {
      "displayName": "Quan Tran",
      "photoUrl": "https://lh6.googleusercontent.com/-aVUouAgZ7FM/AAAAAAAAAAI/AAAAAAAAAIs/GMojDUKRi7s/s64/photo.jpg",
      "userId": "13722425728445374451"
     },
     "user_tz": 240
    },
    "id": "lvcZ_RskbxxL",
    "outputId": "ab5dd07c-d421-4ca1-dfd5-c3d938059476"
   },
   "outputs": [
    {
     "name": "stdout",
     "output_type": "stream",
     "text": [
      "[5, 3, 8, 8]\r\n",
      "[3]\r\n"
     ]
    }
   ],
   "source": [
    "var a = Tensor<Float>(ones: [5,3,8,8])\n",
    "var b = Tensor<Float>([1,2,3])\n",
    "print(a.shape)\n",
    "print(b.shape)"
   ]
  },
  {
   "cell_type": "code",
   "execution_count": 0,
   "metadata": {
    "colab": {
     "base_uri": "https://localhost:8080/",
     "height": 34
    },
    "colab_type": "code",
    "executionInfo": {
     "elapsed": 1053,
     "status": "ok",
     "timestamp": 1558731572346,
     "user": {
      "displayName": "Quan Tran",
      "photoUrl": "https://lh6.googleusercontent.com/-aVUouAgZ7FM/AAAAAAAAAAI/AAAAAAAAAIs/GMojDUKRi7s/s64/photo.jpg",
      "userId": "13722425728445374451"
     },
     "user_tz": 240
    },
    "id": "yqOUFRFJc4gi",
    "outputId": "a1ea4b42-d9dc-40da-a534-2bde8b49bc9c"
   },
   "outputs": [
    {
     "name": "stdout",
     "output_type": "stream",
     "text": [
      "[5, 3, 8, 8]\r\n"
     ]
    }
   ],
   "source": [
    "// example of using mean and std to normalize batch of images (8x8x3)\n",
    "var temp = a + b.expandingShape(at:0).expandingShape(at:2).expandingShape(at:3)\n",
    "print(temp.shape)"
   ]
  },
  {
   "cell_type": "code",
   "execution_count": 0,
   "metadata": {
    "colab": {
     "base_uri": "https://localhost:8080/",
     "height": 153
    },
    "colab_type": "code",
    "executionInfo": {
     "elapsed": 1164,
     "status": "ok",
     "timestamp": 1558731576415,
     "user": {
      "displayName": "Quan Tran",
      "photoUrl": "https://lh6.googleusercontent.com/-aVUouAgZ7FM/AAAAAAAAAAI/AAAAAAAAAIs/GMojDUKRi7s/s64/photo.jpg",
      "userId": "13722425728445374451"
     },
     "user_tz": 240
    },
    "id": "CF3swtRhdcUp",
    "outputId": "65a39a03-898e-4221-c319-69542a59748e"
   },
   "outputs": [
    {
     "data": {
      "text/plain": [
       "[[2.0, 2.0, 2.0, 2.0, 2.0, 2.0, 2.0, 2.0],\n",
       " [2.0, 2.0, 2.0, 2.0, 2.0, 2.0, 2.0, 2.0],\n",
       " [2.0, 2.0, 2.0, 2.0, 2.0, 2.0, 2.0, 2.0],\n",
       " [2.0, 2.0, 2.0, 2.0, 2.0, 2.0, 2.0, 2.0],\n",
       " [2.0, 2.0, 2.0, 2.0, 2.0, 2.0, 2.0, 2.0],\n",
       " [2.0, 2.0, 2.0, 2.0, 2.0, 2.0, 2.0, 2.0],\n",
       " [2.0, 2.0, 2.0, 2.0, 2.0, 2.0, 2.0, 2.0],\n",
       " [2.0, 2.0, 2.0, 2.0, 2.0, 2.0, 2.0, 2.0]]\n"
      ]
     },
     "execution_count": 150,
     "metadata": {
      "tags": []
     },
     "output_type": "execute_result"
    }
   ],
   "source": [
    "temp[0,0]"
   ]
  },
  {
   "cell_type": "code",
   "execution_count": 0,
   "metadata": {
    "colab": {
     "base_uri": "https://localhost:8080/",
     "height": 153
    },
    "colab_type": "code",
    "executionInfo": {
     "elapsed": 1159,
     "status": "ok",
     "timestamp": 1558731620570,
     "user": {
      "displayName": "Quan Tran",
      "photoUrl": "https://lh6.googleusercontent.com/-aVUouAgZ7FM/AAAAAAAAAAI/AAAAAAAAAIs/GMojDUKRi7s/s64/photo.jpg",
      "userId": "13722425728445374451"
     },
     "user_tz": 240
    },
    "id": "EVGxq9X-pO2D",
    "outputId": "ba6bc6c6-7a97-47d9-a293-5f2f1b30e38a"
   },
   "outputs": [
    {
     "data": {
      "text/plain": [
       "[[3.0, 3.0, 3.0, 3.0, 3.0, 3.0, 3.0, 3.0],\n",
       " [3.0, 3.0, 3.0, 3.0, 3.0, 3.0, 3.0, 3.0],\n",
       " [3.0, 3.0, 3.0, 3.0, 3.0, 3.0, 3.0, 3.0],\n",
       " [3.0, 3.0, 3.0, 3.0, 3.0, 3.0, 3.0, 3.0],\n",
       " [3.0, 3.0, 3.0, 3.0, 3.0, 3.0, 3.0, 3.0],\n",
       " [3.0, 3.0, 3.0, 3.0, 3.0, 3.0, 3.0, 3.0],\n",
       " [3.0, 3.0, 3.0, 3.0, 3.0, 3.0, 3.0, 3.0],\n",
       " [3.0, 3.0, 3.0, 3.0, 3.0, 3.0, 3.0, 3.0]]\n"
      ]
     },
     "execution_count": 153,
     "metadata": {
      "tags": []
     },
     "output_type": "execute_result"
    }
   ],
   "source": [
    "temp[0,1]"
   ]
  },
  {
   "cell_type": "markdown",
   "metadata": {
    "colab_type": "text",
    "id": "G7zm-yCeq4uU"
   },
   "source": [
    "## Using slice to extract column"
   ]
  },
  {
   "cell_type": "code",
   "execution_count": 0,
   "metadata": {
    "colab": {
     "base_uri": "https://localhost:8080/",
     "height": 68
    },
    "colab_type": "code",
    "executionInfo": {
     "elapsed": 812,
     "status": "ok",
     "timestamp": 1558732024960,
     "user": {
      "displayName": "Quan Tran",
      "photoUrl": "https://lh6.googleusercontent.com/-aVUouAgZ7FM/AAAAAAAAAAI/AAAAAAAAAIs/GMojDUKRi7s/s64/photo.jpg",
      "userId": "13722425728445374451"
     },
     "user_tz": 240
    },
    "id": "qi4FUf-spxC5",
    "outputId": "dfa97e36-62cb-40d9-aab8-6dd91ccaf355"
   },
   "outputs": [
    {
     "name": "stdout",
     "output_type": "stream",
     "text": [
      "[[-0.51247907,  0.70031214,  0.21330795,  0.21833527],\r\n",
      " [ -1.3798575,   0.7057063, -0.23102938,   2.1162198],\r\n",
      " [  1.6297858,   0.8560183,    0.851844,  0.10909042]]\r\n"
     ]
    }
   ],
   "source": [
    "var a = Tensor<Float>(randomNormal: [3,4])\n",
    "print(a)\n"
   ]
  },
  {
   "cell_type": "code",
   "execution_count": 0,
   "metadata": {
    "colab": {
     "base_uri": "https://localhost:8080/",
     "height": 68
    },
    "colab_type": "code",
    "executionInfo": {
     "elapsed": 1207,
     "status": "ok",
     "timestamp": 1558732176882,
     "user": {
      "displayName": "Quan Tran",
      "photoUrl": "https://lh6.googleusercontent.com/-aVUouAgZ7FM/AAAAAAAAAAI/AAAAAAAAAIs/GMojDUKRi7s/s64/photo.jpg",
      "userId": "13722425728445374451"
     },
     "user_tz": 240
    },
    "id": "2FDq6lJWp9MK",
    "outputId": "60730520-331f-4a28-e292-8fd36724446c"
   },
   "outputs": [
    {
     "data": {
      "text/plain": [
       "[[-0.51247907],\n",
       " [ -1.3798575],\n",
       " [  1.6297858]]\n"
      ]
     },
     "execution_count": 166,
     "metadata": {
      "tags": []
     },
     "output_type": "execute_result"
    }
   ],
   "source": [
    "a.slice(lowerBounds: [0,0],upperBounds: [a.shape[0],0+1])"
   ]
  },
  {
   "cell_type": "code",
   "execution_count": 0,
   "metadata": {
    "colab": {
     "base_uri": "https://localhost:8080/",
     "height": 34
    },
    "colab_type": "code",
    "executionInfo": {
     "elapsed": 1207,
     "status": "ok",
     "timestamp": 1558732285269,
     "user": {
      "displayName": "Quan Tran",
      "photoUrl": "https://lh6.googleusercontent.com/-aVUouAgZ7FM/AAAAAAAAAAI/AAAAAAAAAIs/GMojDUKRi7s/s64/photo.jpg",
      "userId": "13722425728445374451"
     },
     "user_tz": 240
    },
    "id": "RnmFhpHFrXja",
    "outputId": "f8fde406-77bc-48f4-ef36-0eeef2f9e933"
   },
   "outputs": [
    {
     "data": {
      "text/plain": [
       "[-0.51247907,  -1.3798575,   1.6297858]\n"
      ]
     },
     "execution_count": 169,
     "metadata": {
      "tags": []
     },
     "output_type": "execute_result"
    }
   ],
   "source": [
    "a.slice(lowerBounds: [0,0],upperBounds: [a.shape[0],0+1]).squeezingShape(at: 1)"
   ]
  },
  {
   "cell_type": "markdown",
   "metadata": {
    "colab_type": "text",
    "id": "7-8L09F5Tg6t"
   },
   "source": [
    "#  Matmul from scratch"
   ]
  },
  {
   "cell_type": "markdown",
   "metadata": {
    "colab_type": "text",
    "id": "yB0v1TagVKxC"
   },
   "source": [
    "## 1D array input"
   ]
  },
  {
   "cell_type": "code",
   "execution_count": 0,
   "metadata": {
    "colab": {},
    "colab_type": "code",
    "collapsed": true,
    "id": "JOdD9VlyUwIo"
   },
   "outputs": [],
   "source": [
    "func matmul(a: [Float], b: [Float], aDim: (Int, Int), bDim: (Int, Int)) -> [Float] {\n",
    "  \n",
    "  assert(aDim.1 == bDim.0, \"matrix mult shape mismatch\")\n",
    "  var res = Array<Float>(repeating: 0.0, count: aDim.0 * bDim.1)\n",
    "  for i in 0..<aDim.0 {\n",
    "    for j in 0..<bDim.1 {\n",
    "      for k in 0..<aDim.1 {\n",
    "        res[i*bDim.1 + j] += a[i*aDim.1 + k] * b[j + k*bDim.1] \n",
    "      }\n",
    "    }\n",
    "  }\n",
    "  \n",
    "  return res\n",
    "}"
   ]
  },
  {
   "cell_type": "code",
   "execution_count": 0,
   "metadata": {
    "colab": {},
    "colab_type": "code",
    "collapsed": true,
    "id": "NRAR-MJ2dKXu"
   },
   "outputs": [],
   "source": [
    "let a: [Float] = [0,1,2,3,4,5]\n",
    "let b: [Float] = [6,7,8,9,10,11,12,13]"
   ]
  },
  {
   "cell_type": "code",
   "execution_count": 0,
   "metadata": {
    "colab": {
     "base_uri": "https://localhost:8080/"
    },
    "colab_type": "code",
    "executionInfo": {
     "elapsed": 283,
     "status": "error",
     "timestamp": 1558712312525,
     "user": {
      "displayName": "Quan Tran",
      "photoUrl": "https://lh6.googleusercontent.com/-aVUouAgZ7FM/AAAAAAAAAAI/AAAAAAAAAIs/GMojDUKRi7s/s64/photo.jpg",
      "userId": "13722425728445374451"
     },
     "user_tz": 240
    },
    "id": "FnaJRr8-flM1",
    "outputId": "eed740ec-f0fa-47db-a953-940478643d83"
   },
   "outputs": [
    {
     "name": "stdout",
     "output_type": "stream",
     "text": [
      "Assertion failed: matrix mult shape mismatch: file <Cell 36>, line 3\r\n",
      "Current stack trace:\r\n",
      "0    libswiftCore.so                    0x00007fb130b654a0 _swift_stdlib_reportFatalErrorInFile + 115\r\n",
      "1    libswiftCore.so                    0x00007fb130aad30c <unavailable> + 3035916\r\n",
      "2    libswiftCore.so                    0x00007fb130aad3fe <unavailable> + 3036158\r\n",
      "3    libswiftCore.so                    0x00007fb1308f46c2 <unavailable> + 1230530\r\n",
      "4    libswiftCore.so                    0x00007fb130a7a292 <unavailable> + 2826898\r\n",
      "5    libswiftCore.so                    0x00007fb1308f3ba9 <unavailable> + 1227689\r\n"
     ]
    },
    {
     "ename": "",
     "evalue": "ignored",
     "output_type": "error",
     "traceback": [
      "Current stack trace:",
      "\tframe #2: 0x00007fb15e0da4a3 $__lldb_expr268`matmul(a=6 values, b=8 values) at <Cell 36>:3:3",
      "\tframe #3: 0x00007fb114fad066 $__lldb_expr391`main at <Cell 55>:1:9"
     ]
    }
   ],
   "source": [
    "let c = matmul(a: a, b: b, aDim: (3,2), bDim: (1,4))\n",
    "print(c)"
   ]
  },
  {
   "cell_type": "code",
   "execution_count": 0,
   "metadata": {
    "colab": {
     "base_uri": "https://localhost:8080/",
     "height": 34
    },
    "colab_type": "code",
    "executionInfo": {
     "elapsed": 261,
     "status": "ok",
     "timestamp": 1558723164239,
     "user": {
      "displayName": "Quan Tran",
      "photoUrl": "https://lh6.googleusercontent.com/-aVUouAgZ7FM/AAAAAAAAAAI/AAAAAAAAAIs/GMojDUKRi7s/s64/photo.jpg",
      "userId": "13722425728445374451"
     },
     "user_tz": 240
    },
    "id": "mbjJa4FYdZqN",
    "outputId": "e8a876d3-b415-45df-d7af-8e9b7477b924"
   },
   "outputs": [
    {
     "name": "stdout",
     "output_type": "stream",
     "text": [
      "[10.0, 11.0, 12.0, 13.0, 42.0, 47.0, 52.0, 57.0, 74.0, 83.0, 92.0, 101.0]\r\n"
     ]
    }
   ],
   "source": [
    "let c = matmul(a: a, b: b, aDim: (3,2), bDim: (2,4))\n",
    "print(c)"
   ]
  },
  {
   "cell_type": "code",
   "execution_count": 0,
   "metadata": {
    "colab": {
     "base_uri": "https://localhost:8080/",
     "height": 51
    },
    "colab_type": "code",
    "executionInfo": {
     "elapsed": 1265,
     "status": "ok",
     "timestamp": 1558723233079,
     "user": {
      "displayName": "Quan Tran",
      "photoUrl": "https://lh6.googleusercontent.com/-aVUouAgZ7FM/AAAAAAAAAAI/AAAAAAAAAIs/GMojDUKRi7s/s64/photo.jpg",
      "userId": "13722425728445374451"
     },
     "user_tz": 240
    },
    "id": "3zKW0wZrJAV5",
    "outputId": "13918ee2-6545-451d-c944-6020dd898317"
   },
   "outputs": [
    {
     "name": "stdout",
     "output_type": "stream",
     "text": [
      "[ -0.009449077,  -0.007757622, -0.0014349011,   0.025640832,   0.015581535,   0.039894976,\r\n",
      "   -0.00579608,  -0.037376884,   0.019090028,  0.0033364035]\r\n"
     ]
    }
   ],
   "source": [
    "let xTrain = Tensor<Float>(randomNormal: [5, 784])\n",
    "var weights = Tensor<Float>(randomNormal: [784, 10]) / sqrt(784) // Xavier\n",
    "print(weights[0])"
   ]
  },
  {
   "cell_type": "code",
   "execution_count": 0,
   "metadata": {
    "colab": {
     "base_uri": "https://localhost:8080/",
     "height": 34
    },
    "colab_type": "code",
    "executionInfo": {
     "elapsed": 1136,
     "status": "ok",
     "timestamp": 1558723530480,
     "user": {
      "displayName": "Quan Tran",
      "photoUrl": "https://lh6.googleusercontent.com/-aVUouAgZ7FM/AAAAAAAAAAI/AAAAAAAAAIs/GMojDUKRi7s/s64/photo.jpg",
      "userId": "13722425728445374451"
     },
     "user_tz": 240
    },
    "id": "5Z0mwCWkJP_x",
    "outputId": "359c5401-f579-425f-9f01-35a9ca9a0e64"
   },
   "outputs": [
    {
     "data": {
      "text/plain": [
       "[ 0.31076983,    1.952319,   -0.771446, -0.33013448,    1.465432]\n"
      ]
     },
     "execution_count": 60,
     "metadata": {
      "tags": []
     },
     "output_type": "execute_result"
    }
   ],
   "source": [
    "xTrain[0][0..<5]"
   ]
  },
  {
   "cell_type": "code",
   "execution_count": 0,
   "metadata": {
    "colab": {
     "base_uri": "https://localhost:8080/",
     "height": 34
    },
    "colab_type": "code",
    "executionInfo": {
     "elapsed": 1163,
     "status": "ok",
     "timestamp": 1558723627154,
     "user": {
      "displayName": "Quan Tran",
      "photoUrl": "https://lh6.googleusercontent.com/-aVUouAgZ7FM/AAAAAAAAAAI/AAAAAAAAAIs/GMojDUKRi7s/s64/photo.jpg",
      "userId": "13722425728445374451"
     },
     "user_tz": 240
    },
    "id": "aBWcKXSKKav3",
    "outputId": "7c2b6122-a035-4c54-c1a5-f4d3d43a2f26"
   },
   "outputs": [
    {
     "data": {
      "text/plain": [
       "true\n"
      ]
     },
     "execution_count": 64,
     "metadata": {
      "tags": []
     },
     "output_type": "execute_result"
    }
   ],
   "source": [
    "//flatten\n",
    "xTrain[0..<5].scalars.count == 5*784 "
   ]
  },
  {
   "cell_type": "code",
   "execution_count": 0,
   "metadata": {
    "colab": {},
    "colab_type": "code",
    "collapsed": true,
    "id": "hl82Dx3CKy9b"
   },
   "outputs": [],
   "source": [
    "let flatA = xTrain[0..<5].scalars\n",
    "let flatB = weights.scalars\n",
    "let (aDims,bDims) = ((5, 784), (784, 10))"
   ]
  },
  {
   "cell_type": "code",
   "execution_count": 0,
   "metadata": {
    "colab": {
     "base_uri": "https://localhost:8080/",
     "height": 34
    },
    "colab_type": "code",
    "executionInfo": {
     "elapsed": 190,
     "status": "ok",
     "timestamp": 1558723945388,
     "user": {
      "displayName": "Quan Tran",
      "photoUrl": "https://lh6.googleusercontent.com/-aVUouAgZ7FM/AAAAAAAAAAI/AAAAAAAAAIs/GMojDUKRi7s/s64/photo.jpg",
      "userId": "13722425728445374451"
     },
     "user_tz": 240
    },
    "id": "GmujQEBGK1iK",
    "outputId": "74e7037a-0baf-40fa-8b2f-e7ab6a1e563b"
   },
   "outputs": [
    {
     "name": "stdout",
     "output_type": "stream",
     "text": [
      "average: 0.11933654999999996 ms,   min: 0.110525 ms,   max: 0.491485 ms\r\n"
     ]
    }
   ],
   "source": [
    "time(repeating: 100) {\n",
    "    _ = matmul(a: flatA, b: flatB, aDim: aDims, bDim: bDims)\n",
    "}"
   ]
  },
  {
   "cell_type": "markdown",
   "metadata": {
    "colab_type": "text",
    "id": "5jCHrdGkK37N"
   },
   "source": [
    "## Bypass memory safe check (C performance)"
   ]
  },
  {
   "cell_type": "code",
   "execution_count": 0,
   "metadata": {
    "colab": {},
    "colab_type": "code",
    "collapsed": true,
    "id": "ABFKYAYQQc2c"
   },
   "outputs": [],
   "source": [
    "func matmulUnsafe(a: UnsafePointer<Float>, b: UnsafePointer<Float>, aDims: (Int,Int), bDims: (Int,Int)) -> [Float] {\n",
    "    assert(aDims.1 == bDims.0, \"matmul shape mismatch\")\n",
    "    \n",
    "    var res = Array(repeating: Float(0.0), count: aDims.0 * bDims.1)\n",
    "    // THIS IS ALL YOU NEED\n",
    "    // res is now treated like a raw C pointer instead of a bounds-checked array\n",
    "    res.withUnsafeMutableBufferPointer { res in \n",
    "        for i in 0 ..< aDims.0 {\n",
    "            for j in 0 ..< bDims.1 {\n",
    "                for k in 0 ..< aDims.1 {\n",
    "                    res[i*bDims.1+j] += a[i*aDims.1+k] * b[k*bDims.1+j]\n",
    "                }\n",
    "            }\n",
    "        }\n",
    "    }\n",
    "    return res\n",
    "}"
   ]
  },
  {
   "cell_type": "code",
   "execution_count": 0,
   "metadata": {
    "colab": {},
    "colab_type": "code",
    "collapsed": true,
    "id": "XgBWFw1jQozm"
   },
   "outputs": [],
   "source": [
    "let flatA = xTrain[0..<5].scalars\n",
    "let flatB = weights.scalars\n",
    "let (aDims,bDims) = ((5, 784), (784, 10))"
   ]
  },
  {
   "cell_type": "code",
   "execution_count": 0,
   "metadata": {
    "colab": {
     "base_uri": "https://localhost:8080/",
     "height": 34
    },
    "colab_type": "code",
    "executionInfo": {
     "elapsed": 264,
     "status": "ok",
     "timestamp": 1558725171862,
     "user": {
      "displayName": "Quan Tran",
      "photoUrl": "https://lh6.googleusercontent.com/-aVUouAgZ7FM/AAAAAAAAAAI/AAAAAAAAAIs/GMojDUKRi7s/s64/photo.jpg",
      "userId": "13722425728445374451"
     },
     "user_tz": 240
    },
    "id": "mDwhoC4xQhpx",
    "outputId": "c5ae2c20-d4e5-4c4b-f2d6-3280f6497e90"
   },
   "outputs": [
    {
     "name": "stdout",
     "output_type": "stream",
     "text": [
      "average: 0.053170679999999984 ms,   min: 0.049704 ms,   max: 0.088783 ms\r\n"
     ]
    }
   ],
   "source": [
    "time(repeating: 100) {\n",
    "    _ = matmulUnsafe(a: flatA, b: flatB, aDims: aDims, bDims: bDims)\n",
    "}"
   ]
  },
  {
   "cell_type": "markdown",
   "metadata": {
    "colab_type": "text",
    "id": "-RdwVpmYgU3y"
   },
   "source": [
    "## Tensor input (2D)"
   ]
  },
  {
   "cell_type": "code",
   "execution_count": 0,
   "metadata": {
    "colab": {},
    "colab_type": "code",
    "collapsed": true,
    "id": "T_wc5uHsgZ4B"
   },
   "outputs": [],
   "source": [
    "func tensorMatmul(_ a: Tensor<Float>, _ b: Tensor<Float>) -> Tensor<Float> {\n",
    "    var res = Tensor<Float>(zeros: [a.shape[0], b.shape[1]])\n",
    "\n",
    "    for i in 0 ..< a.shape[0] {\n",
    "        for j in 0 ..< b.shape[1] {\n",
    "            for k in 0 ..< a.shape[1] {\n",
    "                res[i, j] += a[i, k] * b[k, j]\n",
    "            }\n",
    "        }\n",
    "    }\n",
    "    return res\n",
    "}\n",
    "\n"
   ]
  },
  {
   "cell_type": "code",
   "execution_count": 0,
   "metadata": {
    "colab": {},
    "colab_type": "code",
    "collapsed": true,
    "id": "ezgbBOfKgdXJ"
   },
   "outputs": [],
   "source": [
    "let xTrain = Tensor<Float>(randomNormal: [5, 784])\n",
    "var weights = Tensor<Float>(randomNormal: [784, 10]) / sqrt(784) // Xavier\n",
    "_ = tensorMatmul(xTrain,weights )"
   ]
  },
  {
   "cell_type": "markdown",
   "metadata": {
    "colab_type": "text",
    "id": "ZqqvUrRGgvFw"
   },
   "source": [
    "Note: This will be really slow because Tensor are very good at **bulk** data processing, not one float at a time"
   ]
  },
  {
   "cell_type": "markdown",
   "metadata": {
    "colab_type": "text",
    "id": "SUNzMTaUg9jc"
   },
   "source": [
    "# Timing tensorflow built-in matmul"
   ]
  },
  {
   "cell_type": "markdown",
   "metadata": {
    "colab_type": "text",
    "id": "sp-M14iQtP1n"
   },
   "source": [
    "## On GPU"
   ]
  },
  {
   "cell_type": "code",
   "execution_count": 0,
   "metadata": {
    "colab": {
     "base_uri": "https://localhost:8080/",
     "height": 272
    },
    "colab_type": "code",
    "executionInfo": {
     "elapsed": 2139,
     "status": "ok",
     "timestamp": 1558732605849,
     "user": {
      "displayName": "Quan Tran",
      "photoUrl": "https://lh6.googleusercontent.com/-aVUouAgZ7FM/AAAAAAAAAAI/AAAAAAAAAIs/GMojDUKRi7s/s64/photo.jpg",
      "userId": "13722425728445374451"
     },
     "user_tz": 240
    },
    "id": "EqDZFXJ-s-VQ",
    "outputId": "294887cb-7232-464f-82fe-e2908931045e"
   },
   "outputs": [
    {
     "name": "stdout",
     "output_type": "stream",
     "text": [
      "\r\n",
      "1x1:\n",
      "  ⏰average: 0.23214700000000002 ms,   min: 0.148317 ms,   max: 0.420043 ms\n",
      "\n",
      "10x10:\n",
      "  ⏰average: 0.1973846 ms,   min: 0.172543 ms,   max: 0.223508 ms\n",
      "\n",
      "100x100:\n",
      "  ⏰average: 0.18139970000000002 ms,   min: 0.170354 ms,   max: 0.199586 ms\n",
      "\n",
      "1000x1000:\n",
      "  ⏰average: 1.1136526999999998 ms,   min: 1.074888 ms,   max: 1.249788 ms\n",
      "\n",
      "5000x5000:\n",
      "  ⏰average: 65.015166 ms,   min: 59.549035 ms,   max: 89.100711 ms\n"
     ]
    }
   ],
   "source": [
    "func timeMatmulTensor(size: Int) {\n",
    "    var matrix = Tensor<Float>(randomNormal: [size, size])\n",
    "    print(\"\\n\\(size)x\\(size):\\n  ⏰\", terminator: \"\")\n",
    "    time(repeating: 10) { \n",
    "        let matrix = matrix • matrix \n",
    "        _ = matrix[0, 0].scalar\n",
    "    }\n",
    "}\n",
    "\n",
    "timeMatmulTensor(size: 1)     // Tiny\n",
    "timeMatmulTensor(size: 10)    // Bigger\n",
    "timeMatmulTensor(size: 100)   // Even Bigger\n",
    "timeMatmulTensor(size: 1000)  // Biggerest\n",
    "timeMatmulTensor(size: 5000)  // Even Biggerest"
   ]
  },
  {
   "cell_type": "markdown",
   "metadata": {
    "colab_type": "text",
    "id": "cGwuqMiItTIS"
   },
   "source": [
    "## On CPU"
   ]
  },
  {
   "cell_type": "code",
   "execution_count": 0,
   "metadata": {
    "colab": {
     "base_uri": "https://localhost:8080/",
     "height": 272
    },
    "colab_type": "code",
    "executionInfo": {
     "elapsed": 38071,
     "status": "ok",
     "timestamp": 1558732741548,
     "user": {
      "displayName": "Quan Tran",
      "photoUrl": "https://lh6.googleusercontent.com/-aVUouAgZ7FM/AAAAAAAAAAI/AAAAAAAAAIs/GMojDUKRi7s/s64/photo.jpg",
      "userId": "13722425728445374451"
     },
     "user_tz": 240
    },
    "id": "-0OpFG7GtUmD",
    "outputId": "231eda3a-3027-4794-9c81-78990c883c7c"
   },
   "outputs": [
    {
     "name": "stdout",
     "output_type": "stream",
     "text": [
      "\r\n",
      "1x1:\r\n",
      "  ⏰average: 0.0427889 ms,   min: 0.034711 ms,   max: 0.073164 ms\r\n",
      "\r\n",
      "10x10:\n",
      "  ⏰average: 0.07212719999999999 ms,   min: 0.056417 ms,   max: 0.113526 ms\n",
      "\n",
      "100x100:\n",
      "  ⏰average: 0.1342534 ms,   min: 0.104488 ms,   max: 0.243828 ms\n",
      "\n",
      "1000x1000:\n",
      "  ⏰average: 27.389434599999998 ms,   min: 25.955144 ms,   max: 30.90808 ms\n",
      "\n",
      "5000x5000:\n",
      "  ⏰average: 3449.5693146999997 ms,   min: 3333.509052 ms,   max: 3932.528158 ms\n"
     ]
    }
   ],
   "source": [
    "withDevice(.cpu) {\n",
    "    timeMatmulTensor(size: 1)     // Tiny\n",
    "    timeMatmulTensor(size: 10)    // Bigger\n",
    "    timeMatmulTensor(size: 100)   // Even Bigger\n",
    "    timeMatmulTensor(size: 1000)  // Biggerest\n",
    "    timeMatmulTensor(size: 5000)  // Even Biggerest\n",
    "}"
   ]
  },
  {
   "cell_type": "markdown",
   "metadata": {
    "colab_type": "text",
    "id": "WH5_wTpCANLz"
   },
   "source": [
    "# Export"
   ]
  },
  {
   "cell_type": "markdown",
   "metadata": {
    "colab_type": "text",
    "id": "22b79E0eANL0"
   },
   "source": [
    "Searching for a specific pattern with a regular expression isn't easy in swift. The good thing is that with an extension, we can make it easy for us!"
   ]
  },
  {
   "cell_type": "code",
   "execution_count": 0,
   "metadata": {
    "colab": {},
    "colab_type": "code",
    "collapsed": true,
    "id": "sxUQ_dm9ANL0"
   },
   "outputs": [],
   "source": [
    "// export\n",
    "public extension String {\n",
    "    func findFirst(pat: String) -> Range<String.Index>? {\n",
    "        return range(of: pat, options: .regularExpression)\n",
    "    }\n",
    "    func hasMatch(pat: String) -> Bool {\n",
    "        return findFirst(pat:pat) != nil\n",
    "    }\n",
    "}"
   ]
  },
  {
   "cell_type": "markdown",
   "metadata": {
    "colab_type": "text",
    "id": "Ma4v4wbVANL2"
   },
   "source": [
    "The foundation library isn't always the most convenient to use... This is how the first line of the following cell is written in it.\n",
    "\n",
    "```swift\n",
    "let url_fname = URL(fileURLWithPath: fname)\n",
    "let last = fname.lastPathComponent\n",
    "let out_fname = (url_fname.deletingLastPathComponent().appendingPathComponent(\"FastaiNotebooks\", isDirectory: true)\n",
    "     .appendingPathComponent(\"Sources\", isDirectory: true)\n",
    "     .appendingPathComponent(\"FastaiNotebooks\", isDirectory: true).appendingPathComponent(last)\n",
    "     .deletingPathExtension().appendingPathExtension(\"swift\"))\n",
    "```"
   ]
  },
  {
   "cell_type": "markdown",
   "metadata": {
    "colab_type": "text",
    "id": "uom39jvgPjEu"
   },
   "source": []
  },
  {
   "cell_type": "markdown",
   "metadata": {
    "colab_type": "text",
    "id": "AWXFxFL7ANL2"
   },
   "source": [
    "This function parses the underlying json behind a notebook to keep the code in the cells marked with `//export`."
   ]
  },
  {
   "cell_type": "code",
   "execution_count": 0,
   "metadata": {
    "colab": {},
    "colab_type": "code",
    "collapsed": true,
    "id": "I94o4QO0ANL3"
   },
   "outputs": [],
   "source": [
    "//export\n",
    "public func notebookToScript(fname: Path){\n",
    "    let newname = fname.basename(dropExtension: true)+\".swift\"\n",
    "    let url = fname.parent/\"FastaiNotebooks/Sources/FastaiNotebooks\"/newname\n",
    "    do {\n",
    "        let data = try Data(contentsOf: fname.url)\n",
    "        let jsonData = try JSONSerialization.jsonObject(with: data, options: .allowFragments) as! [String: Any]\n",
    "        let cells = jsonData[\"cells\"] as! [[String:Any]]\n",
    "        var module = \"\"\"\n",
    "/*\n",
    "THIS FILE WAS AUTOGENERATED! DO NOT EDIT!\n",
    "file to edit: \\(fname.lastPathComponent)\n",
    "\n",
    "*/\n",
    "        \n",
    "\"\"\"\n",
    "        for cell in cells {\n",
    "            if let source = cell[\"source\"] as? [String], !source.isEmpty, \n",
    "                   source[0].hasMatch(pat: #\"^\\s*//\\s*export\\s*$\"#) {\n",
    "                module.append(\"\\n\" + source[1...].joined() + \"\\n\")\n",
    "            }\n",
    "        }\n",
    "        try module.write(to: url, encoding: .utf8)\n",
    "    } catch {\n",
    "        print(\"Can't read the content of \\(fname)\")\n",
    "    }\n",
    "}"
   ]
  },
  {
   "cell_type": "markdown",
   "metadata": {
    "colab_type": "text",
    "id": "tF-c4UyEANL4"
   },
   "source": [
    "And this will do all the notebooks in a given folder."
   ]
  },
  {
   "cell_type": "code",
   "execution_count": 0,
   "metadata": {
    "colab": {},
    "colab_type": "code",
    "collapsed": true,
    "id": "UM3Sob6HANL5"
   },
   "outputs": [],
   "source": [
    "// export\n",
    "public func exportNotebooks(_ path: Path) {\n",
    "    for entry in try! path.ls()\n",
    "    where entry.kind == Entry.Kind.file && \n",
    "          entry.path.basename().hasMatch(pat: #\"^\\d*_.*ipynb$\"#) {\n",
    "        print(\"Converting \\(entry)\")\n",
    "        notebookToScript(fname: entry.path)\n",
    "    }\n",
    "}"
   ]
  },
  {
   "cell_type": "code",
   "execution_count": 0,
   "metadata": {
    "colab": {},
    "colab_type": "code",
    "collapsed": true,
    "id": "82nOOYmHANL7"
   },
   "outputs": [],
   "source": [
    "notebookToScript(fname: Path.cwd/\"00_load_data.ipynb\")"
   ]
  },
  {
   "cell_type": "markdown",
   "metadata": {
    "colab_type": "text",
    "id": "ImMdggfgANL9"
   },
   "source": [
    "But now that we implemented it from scratch we're allowed to use it as a package ;). NotebookExport has been written by pcuenq\n",
    "and will make our lives easier."
   ]
  },
  {
   "cell_type": "code",
   "execution_count": 0,
   "metadata": {
    "colab": {},
    "colab_type": "code",
    "id": "UQz2x1IpANL-",
    "outputId": "6dde33db-7fea-4167-b1df-7b9188ebeef2"
   },
   "outputs": [
    {
     "name": "stdout",
     "output_type": "stream",
     "text": [
      "success\r\n"
     ]
    }
   ],
   "source": [
    "import NotebookExport\n",
    "let exporter = NotebookExport(Path.cwd/\"00_load_data.ipynb\")\n",
    "print(exporter.export(usingPrefix: \"FastaiNotebook_\"))"
   ]
  },
  {
   "cell_type": "code",
   "execution_count": 0,
   "metadata": {
    "colab": {},
    "colab_type": "code",
    "collapsed": true,
    "id": "-MGncJ6GANMB"
   },
   "outputs": [],
   "source": []
  }
 ],
 "metadata": {
  "accelerator": "GPU",
  "colab": {
   "collapsed_sections": [
    "CXHYyFqCANLu",
    "7-8L09F5Tg6t",
    "SUNzMTaUg9jc",
    "WH5_wTpCANLz"
   ],
   "name": "load_data_and_tensor.ipynb",
   "provenance": [
    {
     "file_id": "https://github.com/fastai/fastai_docs/blob/master/dev_swift/00_load_data.ipynb",
     "timestamp": 1558469215741
    }
   ],
   "toc_visible": true,
   "version": "0.3.2"
  },
  "kernelspec": {
   "display_name": "Swift",
   "language": "swift",
   "name": "swift"
  },
  "language_info": {
   "file_extension": ".swift",
   "mimetype": "text/x-swift",
   "name": "swift",
   "version": ""
  }
 },
 "nbformat": 4,
 "nbformat_minor": 1
}
