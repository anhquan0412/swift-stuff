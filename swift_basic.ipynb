{
 "cells": [
  {
   "cell_type": "code",
   "execution_count": 1,
   "metadata": {
    "colab": {
     "base_uri": "https://localhost:8080/",
     "height": 34
    },
    "colab_type": "code",
    "executionInfo": {
     "elapsed": 23166,
     "status": "ok",
     "timestamp": 1558366836610,
     "user": {
      "displayName": "Quan Tran",
      "photoUrl": "https://lh6.googleusercontent.com/-aVUouAgZ7FM/AAAAAAAAAAI/AAAAAAAAAIs/GMojDUKRi7s/s64/photo.jpg",
      "userId": "13722425728445374451"
     },
     "user_tz": 240
    },
    "id": "kZRlD4utdPuX",
    "outputId": "0de9beff-c930-4741-a8bd-7177d0b2ca65"
   },
   "outputs": [
    {
     "name": "stdout",
     "output_type": "stream",
     "text": [
      "hello world\r\n"
     ]
    }
   ],
   "source": [
    "print(\"hello world\")"
   ]
  },
  {
   "cell_type": "markdown",
   "metadata": {
    "colab_type": "text",
    "heading_collapsed": true,
    "id": "5tzfBYfE2x50"
   },
   "source": [
    "# simple function, type inference, value type"
   ]
  },
  {
   "cell_type": "code",
   "execution_count": 2,
   "metadata": {
    "colab": {
     "base_uri": "https://localhost:8080/",
     "height": 34
    },
    "colab_type": "code",
    "executionInfo": {
     "elapsed": 401,
     "status": "ok",
     "timestamp": 1558367858077,
     "user": {
      "displayName": "Quan Tran",
      "photoUrl": "https://lh6.googleusercontent.com/-aVUouAgZ7FM/AAAAAAAAAAI/AAAAAAAAAIs/GMojDUKRi7s/s64/photo.jpg",
      "userId": "13722425728445374451"
     },
     "user_tz": 240
    },
    "hidden": true,
    "id": "O75MzGmTkjjS",
    "outputId": "4c366d74-64e7-49ce-9658-f72988fef1d4"
   },
   "outputs": [
    {
     "name": "stdout",
     "output_type": "stream",
     "text": [
      "51\r\n"
     ]
    }
   ],
   "source": [
    "func calculate(value:Int) -> Int {\n",
    "  return value*value + 42\n",
    "}\n",
    "let x = 3.14\n",
    "let y = 3\n",
    "let z = calculate(value: y) //error: calculate(3) or calculate(value: 3.14)\n",
    "print(z)"
   ]
  },
  {
   "cell_type": "code",
   "execution_count": 3,
   "metadata": {
    "hidden": true
   },
   "outputs": [
    {
     "ename": "",
     "evalue": "",
     "output_type": "error",
     "traceback": [
      "error: <Cell 3>:1:11: error: missing argument label 'value:' in call\ncalculate(3)\n          ^\n          value: \n\n"
     ]
    }
   ],
   "source": [
    "calculate(3)"
   ]
  },
  {
   "cell_type": "code",
   "execution_count": 4,
   "metadata": {
    "colab": {
     "base_uri": "https://localhost:8080/",
     "height": 34
    },
    "colab_type": "code",
    "executionInfo": {
     "elapsed": 300,
     "status": "ok",
     "timestamp": 1558367885325,
     "user": {
      "displayName": "Quan Tran",
      "photoUrl": "https://lh6.googleusercontent.com/-aVUouAgZ7FM/AAAAAAAAAAI/AAAAAAAAAIs/GMojDUKRi7s/s64/photo.jpg",
      "userId": "13722425728445374451"
     },
     "user_tz": 240
    },
    "hidden": true,
    "id": "GE12tay082ao",
    "outputId": "91b49db2-6ce6-412a-ea6d-fdb093570c91"
   },
   "outputs": [
    {
     "name": "stdout",
     "output_type": "stream",
     "text": [
      "51\r\n"
     ]
    }
   ],
   "source": [
    "let temp1 = 3\n",
    "let temp2 = calculate\n",
    "print(temp2(temp1)) //somehow you don't need value here..."
   ]
  },
  {
   "cell_type": "code",
   "execution_count": 5,
   "metadata": {
    "colab": {
     "base_uri": "https://localhost:8080/",
     "height": 34
    },
    "colab_type": "code",
    "executionInfo": {
     "elapsed": 400,
     "status": "ok",
     "timestamp": 1558370994009,
     "user": {
      "displayName": "Quan Tran",
      "photoUrl": "https://lh6.googleusercontent.com/-aVUouAgZ7FM/AAAAAAAAAAI/AAAAAAAAAIs/GMojDUKRi7s/s64/photo.jpg",
      "userId": "13722425728445374451"
     },
     "user_tz": 240
    },
    "hidden": true,
    "id": "CtUeGlXF3Inm",
    "outputId": "7f311701-ab89-48ea-d6bd-8da03d6d3d4d"
   },
   "outputs": [
    {
     "name": "stdout",
     "output_type": "stream",
     "text": [
      "[0, 1, 2] [4, 1, 2]\r\n"
     ]
    }
   ],
   "source": [
    "//value type\n",
    "var temp = [0,1,2]\n",
    "var temp1 = temp\n",
    "\n",
    "temp1[0] = 4\n",
    "print(temp,temp1)"
   ]
  },
  {
   "cell_type": "code",
   "execution_count": 6,
   "metadata": {
    "colab": {
     "base_uri": "https://localhost:8080/",
     "height": 51
    },
    "colab_type": "code",
    "executionInfo": {
     "elapsed": 453,
     "status": "ok",
     "timestamp": 1558371432304,
     "user": {
      "displayName": "Quan Tran",
      "photoUrl": "https://lh6.googleusercontent.com/-aVUouAgZ7FM/AAAAAAAAAAI/AAAAAAAAAIs/GMojDUKRi7s/s64/photo.jpg",
      "userId": "13722425728445374451"
     },
     "user_tz": 240
    },
    "hidden": true,
    "id": "HX71RZABJ1_z",
    "outputId": "da8cc0fe-f481-4b2e-ca63-9400402a0e0a"
   },
   "outputs": [
    {
     "name": "stdout",
     "output_type": "stream",
     "text": [
      "[0.1, 1.0, 2.0]\r\n",
      "[1, 2, 3]\r\n"
     ]
    }
   ],
   "source": [
    "// Type inference and type consistence of array\n",
    "\n",
    "//all float if 1 is float\n",
    "var temp = [0.1,1,2]\n",
    "print(temp)\n",
    "\n",
    "// all int\n",
    "var temp2 = [1,2,3]\n",
    "print(temp2)\n"
   ]
  },
  {
   "cell_type": "code",
   "execution_count": 7,
   "metadata": {
    "colab": {
     "base_uri": "https://localhost:8080/",
     "height": 102
    },
    "colab_type": "code",
    "executionInfo": {
     "elapsed": 419,
     "status": "ok",
     "timestamp": 1558373793104,
     "user": {
      "displayName": "Quan Tran",
      "photoUrl": "https://lh6.googleusercontent.com/-aVUouAgZ7FM/AAAAAAAAAAI/AAAAAAAAAIs/GMojDUKRi7s/s64/photo.jpg",
      "userId": "13722425728445374451"
     },
     "user_tz": 240
    },
    "hidden": true,
    "id": "F5W92vYwUPD4",
    "outputId": "371086a7-e93f-4f87-8876-61cb0e5f6fc2"
   },
   "outputs": [
    {
     "name": "stdout",
     "output_type": "stream",
     "text": [
      "3.14\r\n",
      "3.0\r\n",
      "3\r\n",
      "Int\r\n",
      "3\r\n"
     ]
    }
   ],
   "source": [
    "//TYPE INFERENCE\n",
    "var someFloat:Float\n",
    "someFloat = 3.14\n",
    "print(someFloat)\n",
    "someFloat = 3\n",
    "print(someFloat)\n",
    "\n",
    "var someInt = 3\n",
    "print(someInt)\n",
    "print(type(of:someInt))\n",
    "// error: can't change back to float: someInt=3.14\n",
    "someInt = Int(3.14)\n",
    "print(someInt)"
   ]
  },
  {
   "cell_type": "code",
   "execution_count": 8,
   "metadata": {
    "hidden": true
   },
   "outputs": [
    {
     "ename": "",
     "evalue": "",
     "output_type": "error",
     "traceback": [
      "error: <Cell 8>:1:11: error: cannot assign value of type 'Double' to type 'Int'\nsomeInt = 3.14\n          ^~~~\n          Int()\n\n"
     ]
    }
   ],
   "source": [
    "someInt = 3.14"
   ]
  },
  {
   "cell_type": "markdown",
   "metadata": {
    "colab_type": "text",
    "heading_collapsed": true,
    "id": "-6E0Y_Q8UCJ8"
   },
   "source": [
    "# Array "
   ]
  },
  {
   "cell_type": "code",
   "execution_count": 9,
   "metadata": {
    "colab": {
     "base_uri": "https://localhost:8080/",
     "height": 145
    },
    "colab_type": "code",
    "executionInfo": {
     "elapsed": 22994,
     "status": "ok",
     "timestamp": 1559265800388,
     "user": {
      "displayName": "Quan Tran",
      "photoUrl": "https://lh6.googleusercontent.com/-aVUouAgZ7FM/AAAAAAAAAAI/AAAAAAAAAIs/GMojDUKRi7s/s64/photo.jpg",
      "userId": "13722425728445374451"
     },
     "user_tz": 240
    },
    "hidden": true,
    "id": "uH1Jp12VNPI6",
    "outputId": "100d2346-6f1e-42e3-be48-0da9f4f9fc48"
   },
   "outputs": [
    {
     "name": "stdout",
     "output_type": "stream",
     "text": [
      "[0.1, 1, 2, \"a\"]\r\n",
      "Double\r\n",
      "Int\r\n",
      "String\r\n",
      "[0, 1, 2, \"a\"]\r\n",
      "[0, 1, 2, \"a\"]\r\n",
      "[0, 1, 2, 3]\r\n"
     ]
    }
   ],
   "source": [
    "var mixedArr: [Any] = [0.1,1,2,\"a\"]\n",
    "print(mixedArr)\n",
    "print(type(of:mixedArr[0]))\n",
    "print(type(of:mixedArr[1]))\n",
    "print(type(of:mixedArr[3]))\n",
    "mixedArr[0] = 0\n",
    "print(mixedArr)\n",
    "var mixedArr2 = mixedArr\n",
    "mixedArr2[mixedArr2.count-1]=3\n",
    "\n",
    "print(mixedArr)\n",
    "print(mixedArr2)"
   ]
  },
  {
   "cell_type": "code",
   "execution_count": 10,
   "metadata": {
    "colab": {},
    "colab_type": "code",
    "hidden": true,
    "id": "CrFr2Q_V9SUf"
   },
   "outputs": [],
   "source": [
    "var arr: [Int] = []"
   ]
  },
  {
   "cell_type": "code",
   "execution_count": 11,
   "metadata": {
    "colab": {
     "base_uri": "https://localhost:8080/",
     "height": 34
    },
    "colab_type": "code",
    "executionInfo": {
     "elapsed": 511,
     "status": "ok",
     "timestamp": 1558468495840,
     "user": {
      "displayName": "Quan Tran",
      "photoUrl": "https://lh6.googleusercontent.com/-aVUouAgZ7FM/AAAAAAAAAAI/AAAAAAAAAIs/GMojDUKRi7s/s64/photo.jpg",
      "userId": "13722425728445374451"
     },
     "user_tz": 240
    },
    "hidden": true,
    "id": "MXr4HheT9ZLU",
    "outputId": "abb713ec-e311-4a5e-d496-61cb9ef4e24e"
   },
   "outputs": [
    {
     "name": "stdout",
     "output_type": "stream",
     "text": [
      "[5]\r\n"
     ]
    }
   ],
   "source": [
    "arr.append(5)\n",
    "print(arr)"
   ]
  },
  {
   "cell_type": "code",
   "execution_count": 12,
   "metadata": {
    "colab": {
     "base_uri": "https://localhost:8080/",
     "height": 34
    },
    "colab_type": "code",
    "executionInfo": {
     "elapsed": 786,
     "status": "ok",
     "timestamp": 1558468510406,
     "user": {
      "displayName": "Quan Tran",
      "photoUrl": "https://lh6.googleusercontent.com/-aVUouAgZ7FM/AAAAAAAAAAI/AAAAAAAAAIs/GMojDUKRi7s/s64/photo.jpg",
      "userId": "13722425728445374451"
     },
     "user_tz": 240
    },
    "hidden": true,
    "id": "oAHWmUGR9geX",
    "outputId": "478c2c10-4677-4033-f5ea-9bd4298106ed"
   },
   "outputs": [
    {
     "name": "stdout",
     "output_type": "stream",
     "text": [
      "[5, 1]\r\n"
     ]
    }
   ],
   "source": [
    "var arr2 = arr + [1]\n",
    "print(arr2)"
   ]
  },
  {
   "cell_type": "markdown",
   "metadata": {
    "colab_type": "text",
    "heading_collapsed": true,
    "id": "071Liym9UWsd"
   },
   "source": [
    "# Tuple and multiple var assignment"
   ]
  },
  {
   "cell_type": "code",
   "execution_count": 13,
   "metadata": {
    "colab": {
     "base_uri": "https://localhost:8080/",
     "height": 85
    },
    "colab_type": "code",
    "executionInfo": {
     "elapsed": 511,
     "status": "ok",
     "timestamp": 1558373204910,
     "user": {
      "displayName": "Quan Tran",
      "photoUrl": "https://lh6.googleusercontent.com/-aVUouAgZ7FM/AAAAAAAAAAI/AAAAAAAAAIs/GMojDUKRi7s/s64/photo.jpg",
      "userId": "13722425728445374451"
     },
     "user_tz": 240
    },
    "hidden": true,
    "id": "3PO_ejfbOu7y",
    "outputId": "55ed77e4-b55f-4965-8a73-49e7e2d0d4ed"
   },
   "outputs": [
    {
     "name": "stdout",
     "output_type": "stream",
     "text": [
      "(1, 1.2, \"a\")\r\n",
      "(Int, Double, String)\r\n",
      "(1, 1.2, \"a\")\r\n",
      "(1, 1.2, \"b\")\r\n"
     ]
    }
   ],
   "source": [
    "// Can mix type in tuple, but once assigned, tuple's element can't change type\n",
    "// tuple is value type (copied)\n",
    "var temp = (1,1.2,\"a\")\n",
    "print(temp)\n",
    "print(type(of:temp))\n",
    "var temp2 = temp\n",
    "//error:  temp2.2 = 3\n",
    "temp2.2=\"b\"\n",
    "print(temp)\n",
    "print(temp2)\n"
   ]
  },
  {
   "cell_type": "code",
   "execution_count": 14,
   "metadata": {
    "colab": {
     "base_uri": "https://localhost:8080/",
     "height": 51
    },
    "colab_type": "code",
    "executionInfo": {
     "elapsed": 464,
     "status": "ok",
     "timestamp": 1558373593841,
     "user": {
      "displayName": "Quan Tran",
      "photoUrl": "https://lh6.googleusercontent.com/-aVUouAgZ7FM/AAAAAAAAAAI/AAAAAAAAAIs/GMojDUKRi7s/s64/photo.jpg",
      "userId": "13722425728445374451"
     },
     "user_tz": 240
    },
    "hidden": true,
    "id": "RsrJeY1zTYGD",
    "outputId": "f2505bb3-5524-403e-8be9-c68943ae56aa"
   },
   "outputs": [
    {
     "name": "stdout",
     "output_type": "stream",
     "text": [
      "1 Int\r\n",
      "2.2 Double\r\n"
     ]
    }
   ],
   "source": [
    "// assign multiple var with with tuple\n",
    "var (x,y) = (1,2.2)\n",
    "print(x, type(of:x))\n",
    "print(y, type(of:y))\n"
   ]
  },
  {
   "cell_type": "code",
   "execution_count": 15,
   "metadata": {
    "colab": {},
    "colab_type": "code",
    "hidden": true,
    "id": "kvYZZX25_xly"
   },
   "outputs": [],
   "source": [
    "var a,b: Float\n",
    "a=1.1\n",
    "b=2.2"
   ]
  },
  {
   "cell_type": "code",
   "execution_count": 16,
   "metadata": {
    "colab": {
     "base_uri": "https://localhost:8080/",
     "height": 51
    },
    "colab_type": "code",
    "executionInfo": {
     "elapsed": 306,
     "status": "ok",
     "timestamp": 1558372312071,
     "user": {
      "displayName": "Quan Tran",
      "photoUrl": "https://lh6.googleusercontent.com/-aVUouAgZ7FM/AAAAAAAAAAI/AAAAAAAAAIs/GMojDUKRi7s/s64/photo.jpg",
      "userId": "13722425728445374451"
     },
     "user_tz": 240
    },
    "hidden": true,
    "id": "NS8JEcQXoI2L",
    "outputId": "aa87d605-759d-401e-a471-2a23db348e78"
   },
   "outputs": [
    {
     "name": "stdout",
     "output_type": "stream",
     "text": [
      "Float\r\n",
      "Float.Type\r\n"
     ]
    }
   ],
   "source": [
    "let temp = type(of:someFloat)\n",
    "print(type(of:someFloat))\n",
    "print(type(of:temp))"
   ]
  },
  {
   "cell_type": "markdown",
   "metadata": {
    "colab_type": "text",
    "heading_collapsed": true,
    "id": "57rbpym3Uj5E"
   },
   "source": [
    "# Function (no param name)"
   ]
  },
  {
   "cell_type": "code",
   "execution_count": 17,
   "metadata": {
    "colab": {
     "base_uri": "https://localhost:8080/",
     "height": 34
    },
    "colab_type": "code",
    "executionInfo": {
     "elapsed": 376,
     "status": "ok",
     "timestamp": 1558372313156,
     "user": {
      "displayName": "Quan Tran",
      "photoUrl": "https://lh6.googleusercontent.com/-aVUouAgZ7FM/AAAAAAAAAAI/AAAAAAAAAIs/GMojDUKRi7s/s64/photo.jpg",
      "userId": "13722425728445374451"
     },
     "user_tz": 240
    },
    "hidden": true,
    "id": "EKfxyS4MqZiX",
    "outputId": "5e1144a3-a171-4e3c-fa93-0f3baa69212f"
   },
   "outputs": [
    {
     "name": "stdout",
     "output_type": "stream",
     "text": [
      "(Function) (5, 5.1400003)\r\n"
     ]
    }
   ],
   "source": [
    "// don't have to specify param name at function call\n",
    "func func2(_ inp:Float) -> (Int,Float) {\n",
    "  return (Int(inp+2),inp+2)\n",
    "}\n",
    "print(func2,func2(3.14))\n",
    "\n"
   ]
  },
  {
   "cell_type": "code",
   "execution_count": 18,
   "metadata": {
    "colab": {
     "base_uri": "https://localhost:8080/",
     "height": 146
    },
    "colab_type": "code",
    "executionInfo": {
     "elapsed": 23703,
     "status": "error",
     "timestamp": 1556649459951,
     "user": {
      "displayName": "Quan Tran",
      "photoUrl": "https://lh6.googleusercontent.com/-aVUouAgZ7FM/AAAAAAAAAAI/AAAAAAAAAIs/GMojDUKRi7s/s64/photo.jpg",
      "userId": "13722425728445374451"
     },
     "user_tz": 240
    },
    "hidden": true,
    "id": "8EwMjCSitDKh",
    "outputId": "a0e385bc-8936-4a03-9508-33d50f7c4398"
   },
   "outputs": [
    {
     "ename": "",
     "evalue": "",
     "output_type": "error",
     "traceback": [
      "error: <Cell 18>:1:6: error: extraneous argument label 'inp:' in call\nfunc2(inp: 3.14) //not allow\n     ^~~~~~\n      \n\n"
     ]
    }
   ],
   "source": [
    "func2(inp: 3.14) //not allow"
   ]
  },
  {
   "cell_type": "markdown",
   "metadata": {
    "colab_type": "text",
    "heading_collapsed": true,
    "id": "XpuKzehZ3ZxQ"
   },
   "source": [
    "# Struct (similar to Python class)"
   ]
  },
  {
   "cell_type": "code",
   "execution_count": 19,
   "metadata": {
    "colab": {
     "base_uri": "https://localhost:8080/",
     "height": 51
    },
    "colab_type": "code",
    "executionInfo": {
     "elapsed": 402,
     "status": "ok",
     "timestamp": 1558376981269,
     "user": {
      "displayName": "Quan Tran",
      "photoUrl": "https://lh6.googleusercontent.com/-aVUouAgZ7FM/AAAAAAAAAAI/AAAAAAAAAIs/GMojDUKRi7s/s64/photo.jpg",
      "userId": "13722425728445374451"
     },
     "user_tz": 240
    },
    "hidden": true,
    "id": "q83rzVshub2t",
    "outputId": "a878e894-ce2b-4e97-881a-50a36ea088f1"
   },
   "outputs": [
    {
     "name": "stdout",
     "output_type": "stream",
     "text": [
      "ComplexF(real: 1.0, imag: 12.0)\r\n",
      "ComplexF\r\n"
     ]
    }
   ],
   "source": [
    "struct ComplexF {\n",
    "    var real,imag:Float\n",
    "}\n",
    "\n",
    "var someComplex = ComplexF(real:1.0, imag:12.0)\n",
    "print(someComplex)\n",
    "print(type(of: someComplex))"
   ]
  },
  {
   "cell_type": "code",
   "execution_count": 20,
   "metadata": {
    "colab": {
     "base_uri": "https://localhost:8080/",
     "height": 34
    },
    "colab_type": "code",
    "executionInfo": {
     "elapsed": 350,
     "status": "ok",
     "timestamp": 1556649478556,
     "user": {
      "displayName": "Quan Tran",
      "photoUrl": "https://lh6.googleusercontent.com/-aVUouAgZ7FM/AAAAAAAAAAI/AAAAAAAAAIs/GMojDUKRi7s/s64/photo.jpg",
      "userId": "13722425728445374451"
     },
     "user_tz": 240
    },
    "hidden": true,
    "id": "j52KVED-uhfz",
    "outputId": "cf1e2ddd-2bb9-4b21-fd56-eab14f53ca59"
   },
   "outputs": [
    {
     "name": "stdout",
     "output_type": "stream",
     "text": [
      "ComplexF(real: 1.0, imag: 14.0)\r\n"
     ]
    }
   ],
   "source": [
    "someComplex.imag+=2\n",
    "print(someComplex)"
   ]
  },
  {
   "cell_type": "code",
   "execution_count": 21,
   "metadata": {
    "colab": {},
    "colab_type": "code",
    "hidden": true,
    "id": "GeLALIOKxyXR"
   },
   "outputs": [],
   "source": [
    "struct Complex<T : SignedNumeric> {\n",
    "    var a, b : T\n",
    "    \n",
    "//     return same class, different atts or modified existing atts\n",
    "    var neg: Complex {return Complex(a:-a,b:-b)}\n",
    "  \n",
    "    // 'computed property'. Not stored in memory/ calculated on the fly/ getter and setter\n",
    "    // act as a new class attr that is very similar to other attrs so we don't explicitly declare one\n",
    "    var bSquare : T {\n",
    "        get { return b*b }\n",
    "        set { b = newValue } // newValue is Swift keyword\n",
    "    }\n",
    "}\n"
   ]
  },
  {
   "cell_type": "code",
   "execution_count": 22,
   "metadata": {
    "colab": {
     "base_uri": "https://localhost:8080/",
     "height": 68
    },
    "colab_type": "code",
    "executionInfo": {
     "elapsed": 2004,
     "status": "ok",
     "timestamp": 1558394072876,
     "user": {
      "displayName": "Quan Tran",
      "photoUrl": "https://lh6.googleusercontent.com/-aVUouAgZ7FM/AAAAAAAAAAI/AAAAAAAAAIs/GMojDUKRi7s/s64/photo.jpg",
      "userId": "13722425728445374451"
     },
     "user_tz": 240
    },
    "hidden": true,
    "id": "7zGGudKmyPLM",
    "outputId": "750edec8-960d-4891-c179-9714c3b6a6f0"
   },
   "outputs": [
    {
     "name": "stdout",
     "output_type": "stream",
     "text": [
      "Complex<Int>(a: 1, b: 2)\r\n",
      "Complex<Double>(a: 1.1, b: 2.2)\r\n",
      "Complex<Double>(a: 1.0, b: 2.2)\r\n"
     ]
    }
   ],
   "source": [
    "var temp = Complex(a:1, b:2)\n",
    "var temp1 = Complex(a:1.1,b:2.2)\n",
    "var temp2 = Complex(a:1,b:2.2)\n",
    "print(temp,temp1,temp2,separator: \"\\n\")"
   ]
  },
  {
   "cell_type": "code",
   "execution_count": 23,
   "metadata": {
    "colab": {
     "base_uri": "https://localhost:8080/",
     "height": 51
    },
    "colab_type": "code",
    "executionInfo": {
     "elapsed": 1782,
     "status": "ok",
     "timestamp": 1558394077928,
     "user": {
      "displayName": "Quan Tran",
      "photoUrl": "https://lh6.googleusercontent.com/-aVUouAgZ7FM/AAAAAAAAAAI/AAAAAAAAAIs/GMojDUKRi7s/s64/photo.jpg",
      "userId": "13722425728445374451"
     },
     "user_tz": 240
    },
    "hidden": true,
    "id": "-HI47y-gznyw",
    "outputId": "c998e33a-0efc-4cfa-cae2-3e246c2210ed"
   },
   "outputs": [
    {
     "name": "stdout",
     "output_type": "stream",
     "text": [
      "Complex<Double>(a: -1.0, b: -2.2)\r\n",
      "Complex<Double>\r\n"
     ]
    }
   ],
   "source": [
    "var temp3 = temp2.neg\n",
    "print(temp3)\n",
    "print(type(of: temp3))"
   ]
  },
  {
   "cell_type": "code",
   "execution_count": 24,
   "metadata": {
    "colab": {
     "base_uri": "https://localhost:8080/",
     "height": 34
    },
    "colab_type": "code",
    "executionInfo": {
     "elapsed": 1551,
     "status": "ok",
     "timestamp": 1558394105196,
     "user": {
      "displayName": "Quan Tran",
      "photoUrl": "https://lh6.googleusercontent.com/-aVUouAgZ7FM/AAAAAAAAAAI/AAAAAAAAAIs/GMojDUKRi7s/s64/photo.jpg",
      "userId": "13722425728445374451"
     },
     "user_tz": 240
    },
    "hidden": true,
    "id": "iafmhcMr0dl-",
    "outputId": "0d0cd76e-e34a-4a49-e51f-c40ca1f46b23"
   },
   "outputs": [
    {
     "name": "stdout",
     "output_type": "stream",
     "text": [
      "Complex<Double>(a: 5.0, b: -2.2) Complex<Double>(a: 1.0, b: 2.2)\r\n"
     ]
    }
   ],
   "source": [
    "temp3.a=5\n",
    "print(temp3,temp2)"
   ]
  },
  {
   "cell_type": "code",
   "execution_count": 25,
   "metadata": {
    "colab": {},
    "colab_type": "code",
    "hidden": true,
    "id": "VjfOZ3PwwNIJ"
   },
   "outputs": [],
   "source": [
    "var temp4=temp3"
   ]
  },
  {
   "cell_type": "code",
   "execution_count": 26,
   "metadata": {
    "colab": {
     "base_uri": "https://localhost:8080/",
     "height": 34
    },
    "colab_type": "code",
    "executionInfo": {
     "elapsed": 447,
     "status": "ok",
     "timestamp": 1558394267842,
     "user": {
      "displayName": "Quan Tran",
      "photoUrl": "https://lh6.googleusercontent.com/-aVUouAgZ7FM/AAAAAAAAAAI/AAAAAAAAAIs/GMojDUKRi7s/s64/photo.jpg",
      "userId": "13722425728445374451"
     },
     "user_tz": 240
    },
    "hidden": true,
    "id": "hohBkVH13yJV",
    "outputId": "3053da7b-f50d-4c27-8605-b4f2871e3bd1"
   },
   "outputs": [
    {
     "name": "stdout",
     "output_type": "stream",
     "text": [
      "4.840000000000001\r\n"
     ]
    }
   ],
   "source": [
    "print(temp3.bSquare)"
   ]
  },
  {
   "cell_type": "code",
   "execution_count": 27,
   "metadata": {
    "colab": {
     "base_uri": "https://localhost:8080/",
     "height": 51
    },
    "colab_type": "code",
    "executionInfo": {
     "elapsed": 638,
     "status": "ok",
     "timestamp": 1558394325982,
     "user": {
      "displayName": "Quan Tran",
      "photoUrl": "https://lh6.googleusercontent.com/-aVUouAgZ7FM/AAAAAAAAAAI/AAAAAAAAAIs/GMojDUKRi7s/s64/photo.jpg",
      "userId": "13722425728445374451"
     },
     "user_tz": 240
    },
    "hidden": true,
    "id": "hT1Lp8Mt4Lha",
    "outputId": "4532a59f-9156-40cf-ef9a-ed1606832770"
   },
   "outputs": [
    {
     "name": "stdout",
     "output_type": "stream",
     "text": [
      "Complex<Double>(a: 5.0, b: 4.0)\r\n",
      "16.0\r\n"
     ]
    }
   ],
   "source": [
    "temp3.bSquare=4\n",
    "print(temp3,temp3.bSquare, separator: \"\\n\")"
   ]
  },
  {
   "cell_type": "code",
   "execution_count": 28,
   "metadata": {
    "colab": {
     "base_uri": "https://localhost:8080/",
     "height": 34
    },
    "colab_type": "code",
    "executionInfo": {
     "elapsed": 849,
     "status": "ok",
     "timestamp": 1558394329703,
     "user": {
      "displayName": "Quan Tran",
      "photoUrl": "https://lh6.googleusercontent.com/-aVUouAgZ7FM/AAAAAAAAAAI/AAAAAAAAAIs/GMojDUKRi7s/s64/photo.jpg",
      "userId": "13722425728445374451"
     },
     "user_tz": 240
    },
    "hidden": true,
    "id": "5Owv2cRvwTSl",
    "outputId": "e0a36bf2-fd9d-4ac5-bcc0-82330642aeee"
   },
   "outputs": [
    {
     "name": "stdout",
     "output_type": "stream",
     "text": [
      "Complex<Double>(a: 5.0, b: -2.2)\r\n"
     ]
    }
   ],
   "source": [
    "print(temp4)"
   ]
  },
  {
   "cell_type": "markdown",
   "metadata": {
    "colab_type": "text",
    "heading_collapsed": true,
    "id": "EUGMQpjPirG3"
   },
   "source": [
    "# Extension to struct\n"
   ]
  },
  {
   "cell_type": "code",
   "execution_count": 29,
   "metadata": {
    "colab": {},
    "colab_type": "code",
    "hidden": true,
    "id": "y8xHIx6q8LcJ"
   },
   "outputs": [],
   "source": [
    "struct Complex<T : SignedNumeric> {\n",
    "    var a, b : T\n",
    "    \n",
    "//     return same class, different atts or modified existing atts\n",
    "    var neg: Complex {return Complex(a:-a,b:-b)}\n",
    "  \n",
    "    // 'computed property'. Not stored in memory/ calculated on the fly/ getter and setter\n",
    "    // act as a new class attr that is very similar to other attrs so we don't explicitly declare one\n",
    "    var bSquare : T {\n",
    "        get { return b*b }\n",
    "        set { b = newValue } // newValue is Swift keyword\n",
    "    }\n",
    "}\n"
   ]
  },
  {
   "cell_type": "code",
   "execution_count": 30,
   "metadata": {
    "colab": {},
    "colab_type": "code",
    "hidden": true,
    "id": "OCdjdIip8L9c"
   },
   "outputs": [],
   "source": [
    "//dynamically add func to existing struct\n",
    "extension Complex {\n",
    "    // return new obj\n",
    "    func add(_ other: Complex) -> Complex {\n",
    "        return Complex(a: a + other.a,\n",
    "                       b: b + other.b)\n",
    "    }\n",
    "}"
   ]
  },
  {
   "cell_type": "code",
   "execution_count": 31,
   "metadata": {
    "colab": {
     "base_uri": "https://localhost:8080/",
     "height": 68
    },
    "colab_type": "code",
    "executionInfo": {
     "elapsed": 549,
     "status": "ok",
     "timestamp": 1558394501651,
     "user": {
      "displayName": "Quan Tran",
      "photoUrl": "https://lh6.googleusercontent.com/-aVUouAgZ7FM/AAAAAAAAAAI/AAAAAAAAAIs/GMojDUKRi7s/s64/photo.jpg",
      "userId": "13722425728445374451"
     },
     "user_tz": 240
    },
    "hidden": true,
    "id": "EtYqB-628tT2",
    "outputId": "5bb8065c-005e-4975-dc3f-e284af493006"
   },
   "outputs": [
    {
     "name": "stdout",
     "output_type": "stream",
     "text": [
      "Complex<Int>(a: 1, b: 2)\r\n",
      "Complex<Int>(a: 4, b: 6)\r\n",
      "Complex<Int>(a: 2, b: 4)\r\n"
     ]
    }
   ],
   "source": [
    "var temp = Complex(a:1, b:2)\n",
    "var temp2 = temp.add(Complex(a:3,b:4))\n",
    "var temp3 = temp.add(temp)\n",
    "print(temp,temp2,temp3,separator: \"\\n\")"
   ]
  },
  {
   "cell_type": "code",
   "execution_count": 32,
   "metadata": {
    "colab": {},
    "colab_type": "code",
    "hidden": true,
    "id": "J9iEP1BI84AQ"
   },
   "outputs": [],
   "source": [
    "// define operator as a function\n",
    "extension Complex {\n",
    "    static func + (lhs: Complex, rhs: Complex) -> Complex {\n",
    "      return Complex(a: lhs.a + rhs.a, \n",
    "                     b: lhs.b + rhs.b)\n",
    "    }\n",
    "}"
   ]
  },
  {
   "cell_type": "code",
   "execution_count": 33,
   "metadata": {
    "colab": {
     "base_uri": "https://localhost:8080/",
     "height": 217
    },
    "colab_type": "code",
    "executionInfo": {
     "elapsed": 343,
     "status": "error",
     "timestamp": 1558394516975,
     "user": {
      "displayName": "Quan Tran",
      "photoUrl": "https://lh6.googleusercontent.com/-aVUouAgZ7FM/AAAAAAAAAAI/AAAAAAAAAIs/GMojDUKRi7s/s64/photo.jpg",
      "userId": "13722425728445374451"
     },
     "user_tz": 240
    },
    "hidden": true,
    "id": "N9ad-Ma_9jif",
    "outputId": "1ada6c29-4044-4772-f5c2-6a06fce814f4"
   },
   "outputs": [
    {
     "ename": "",
     "evalue": "",
     "output_type": "error",
     "traceback": [
      "error: <Cell 33>:2:30: error: binary operator '+' cannot be applied to two 'Complex<Int>' operands\nvar temp3 = Complex(a:1,b:2) + Complex(a:1,b:2)\n            ~~~~~~~~~~~~~~~~ ^ ~~~~~~~~~~~~~~~~\n\n<Cell 33>:2:30: note: overloads for '+' exist with these partially matching parameter lists: (AnyDerivative, AnyDerivative), (Float, Float), (Double, Double), (Float80, Float80), (UInt8, UInt8), (Int8, Int8), (UInt16, UInt16), (Int16, Int16), (UInt32, UInt32), (Int32, Int32), (UInt64, UInt64), (Int64, Int64), (UInt, UInt), (Int, Int), (String, String), (Array<Element>, Array<Element>), (Array<Element>.DifferentiableView, Array<Element>.DifferentiableView), (Self, Self.Stride), (Self.Stride, Self), (Self, Other), (Other, Self)\nvar temp3 = Complex(a:1,b:2) + Complex(a:1,b:2)\n                             ^\n\n"
     ]
    }
   ],
   "source": [
    "// this is supposed to work, thanks Colab!\n",
    "var temp3 = Complex(a:1,b:2) + Complex(a:1,b:2)\n",
    "print(temp3)"
   ]
  },
  {
   "cell_type": "code",
   "execution_count": 34,
   "metadata": {
    "colab": {
     "base_uri": "https://localhost:8080/",
     "height": 34
    },
    "colab_type": "code",
    "executionInfo": {
     "elapsed": 372,
     "status": "ok",
     "timestamp": 1556649493634,
     "user": {
      "displayName": "Quan Tran",
      "photoUrl": "https://lh6.googleusercontent.com/-aVUouAgZ7FM/AAAAAAAAAAI/AAAAAAAAAIs/GMojDUKRi7s/s64/photo.jpg",
      "userId": "13722425728445374451"
     },
     "user_tz": 240
    },
    "hidden": true,
    "id": "kuqO1-0uAA5g",
    "outputId": "814de9a8-0a1f-4736-f758-decedb9bbd5a"
   },
   "outputs": [
    {
     "name": "stdout",
     "output_type": "stream",
     "text": [
      "3\r\n"
     ]
    }
   ],
   "source": [
    "// define your own operator\n",
    "\n",
    "prefix operator √\n",
    "\n",
    "// type safe for operator. Cannot just put Complex here\n",
    "prefix func √(inp: Complex<Int>) -> Int {\n",
    "  return inp.a + inp.b\n",
    "}\n",
    "\n",
    "let temp = √(Complex(a:1,b:2))\n",
    "print(temp)"
   ]
  },
  {
   "cell_type": "code",
   "execution_count": 35,
   "metadata": {
    "colab": {
     "base_uri": "https://localhost:8080/",
     "height": 34
    },
    "colab_type": "code",
    "executionInfo": {
     "elapsed": 516,
     "status": "ok",
     "timestamp": 1558394911969,
     "user": {
      "displayName": "Quan Tran",
      "photoUrl": "https://lh6.googleusercontent.com/-aVUouAgZ7FM/AAAAAAAAAAI/AAAAAAAAAIs/GMojDUKRi7s/s64/photo.jpg",
      "userId": "13722425728445374451"
     },
     "user_tz": 240
    },
    "hidden": true,
    "id": "tMc1gmSgjq-L",
    "outputId": "00deb14f-d525-4a5a-f2e9-5e77fedb8cb7"
   },
   "outputs": [
    {
     "name": "stdout",
     "output_type": "stream",
     "text": [
      "20\r\n"
     ]
    }
   ],
   "source": [
    "prefix operator √\n",
    "\n",
    "// type safe for operator. Cannot just put Complex here\n",
    "prefix func √(inp: Complex<Float>) -> Complex<Float> {\n",
    "  return Complex(a: inp.a.squareRoot(), b: inp.b.squareRoot())\n",
    "}\n",
    "\n",
    "let temp = √(Complex(a:4,b:16))\n",
    "print(temp)"
   ]
  },
  {
   "cell_type": "code",
   "execution_count": 43,
   "metadata": {
    "colab": {
     "base_uri": "https://localhost:8080/",
     "height": 85
    },
    "colab_type": "code",
    "executionInfo": {
     "elapsed": 423,
     "status": "ok",
     "timestamp": 1558394966493,
     "user": {
      "displayName": "Quan Tran",
      "photoUrl": "https://lh6.googleusercontent.com/-aVUouAgZ7FM/AAAAAAAAAAI/AAAAAAAAAIs/GMojDUKRi7s/s64/photo.jpg",
      "userId": "13722425728445374451"
     },
     "user_tz": 240
    },
    "hidden": true,
    "id": "CvnrrvGgkWpb",
    "outputId": "eed8e159-2909-44aa-afa9-3af220ef8f18"
   },
   "outputs": [
    {
     "name": "stdout",
     "output_type": "stream",
     "text": [
      "Int\r\n",
      "42\r\n",
      "(Opaque Value)\r\n",
      "Builtin.Int64\r\n"
     ]
    }
   ],
   "source": [
    "var someInt = 42\n",
    "print(type(of: someInt))\n",
    "print(someInt,someInt._value,separator: \"\\n\")\n",
    "print(type(of: someInt._value))"
   ]
  },
  {
   "cell_type": "code",
   "execution_count": 44,
   "metadata": {
    "colab": {},
    "colab_type": "code",
    "hidden": true,
    "id": "Nucjr4cypy72"
   },
   "outputs": [],
   "source": [
    "func printType<T: Comparable>(_ inp: T){\n",
    "  print(type(of: inp))\n",
    "}"
   ]
  },
  {
   "cell_type": "markdown",
   "metadata": {
    "colab_type": "text",
    "id": "AapG-Ev43tzt"
   },
   "source": [
    "# Simple logic and extension to base swift class"
   ]
  },
  {
   "cell_type": "code",
   "execution_count": 45,
   "metadata": {
    "colab": {
     "base_uri": "https://localhost:8080/",
     "height": 68
    },
    "colab_type": "code",
    "executionInfo": {
     "elapsed": 374,
     "status": "ok",
     "timestamp": 1558395050053,
     "user": {
      "displayName": "Quan Tran",
      "photoUrl": "https://lh6.googleusercontent.com/-aVUouAgZ7FM/AAAAAAAAAAI/AAAAAAAAAIs/GMojDUKRi7s/s64/photo.jpg",
      "userId": "13722425728445374451"
     },
     "user_tz": 240
    },
    "id": "B8dS-ihJzBZ0",
    "outputId": "841ec2d5-0f7f-4b58-e0cc-d6741d75e3fa"
   },
   "outputs": [
    {
     "name": "stdout",
     "output_type": "stream",
     "text": [
      "1\r\n",
      "0\r\n",
      "1\r\n"
     ]
    }
   ],
   "source": [
    "print(1 & 1)\n",
    "print(2 & 1)\n",
    "print(3 & 1)"
   ]
  },
  {
   "cell_type": "code",
   "execution_count": 46,
   "metadata": {
    "colab": {
     "base_uri": "https://localhost:8080/",
     "height": 34
    },
    "colab_type": "code",
    "executionInfo": {
     "elapsed": 436,
     "status": "ok",
     "timestamp": 1558395661775,
     "user": {
      "displayName": "Quan Tran",
      "photoUrl": "https://lh6.googleusercontent.com/-aVUouAgZ7FM/AAAAAAAAAAI/AAAAAAAAAIs/GMojDUKRi7s/s64/photo.jpg",
      "userId": "13722425728445374451"
     },
     "user_tz": 240
    },
    "id": "2UpMZFUDmcSV",
    "outputId": "9a6498ec-fcec-41bb-8daa-860c7f2f11d5"
   },
   "outputs": [
    {
     "name": "stdout",
     "output_type": "stream",
     "text": [
      "Hello World\r\n"
     ]
    }
   ],
   "source": [
    "var temp: Int {\n",
    "  print(\"Hello World\"); return 1+1\n",
    "}\n",
    "var temp2 = temp"
   ]
  },
  {
   "cell_type": "code",
   "execution_count": 47,
   "metadata": {
    "colab": {},
    "colab_type": "code",
    "id": "yimkJm0OpvAy"
   },
   "outputs": [],
   "source": [
    "extension Int {\n",
    "  // another computed property\n",
    "  var isOdd: Bool { return self & 1 != 0 }\n",
    "}\n"
   ]
  },
  {
   "cell_type": "code",
   "execution_count": 48,
   "metadata": {
    "colab": {
     "base_uri": "https://localhost:8080/",
     "height": 51
    },
    "colab_type": "code",
    "executionInfo": {
     "elapsed": 437,
     "status": "ok",
     "timestamp": 1558395732255,
     "user": {
      "displayName": "Quan Tran",
      "photoUrl": "https://lh6.googleusercontent.com/-aVUouAgZ7FM/AAAAAAAAAAI/AAAAAAAAAIs/GMojDUKRi7s/s64/photo.jpg",
      "userId": "13722425728445374451"
     },
     "user_tz": 240
    },
    "id": "2F8Rq3RuzzkM",
    "outputId": "1f8b1d00-640c-42be-8ba5-28b33d14ec9c"
   },
   "outputs": [
    {
     "name": "stdout",
     "output_type": "stream",
     "text": [
      "true\r\n",
      "false\r\n"
     ]
    }
   ],
   "source": [
    "var a=5\n",
    "print(a.isOdd)\n",
    "a+=1\n",
    "print(a.isOdd)"
   ]
  },
  {
   "cell_type": "code",
   "execution_count": 49,
   "metadata": {
    "colab": {},
    "colab_type": "code",
    "id": "T0UAKzgv0R6b"
   },
   "outputs": [],
   "source": [
    "extension Bool {\n",
    "  var symbol : String { return self ? \"👍\" : \"👎\" }\n",
    "}"
   ]
  },
  {
   "cell_type": "code",
   "execution_count": 50,
   "metadata": {
    "colab": {
     "base_uri": "https://localhost:8080/",
     "height": 34
    },
    "colab_type": "code",
    "executionInfo": {
     "elapsed": 355,
     "status": "ok",
     "timestamp": 1556654153100,
     "user": {
      "displayName": "Quan Tran",
      "photoUrl": "https://lh6.googleusercontent.com/-aVUouAgZ7FM/AAAAAAAAAAI/AAAAAAAAAIs/GMojDUKRi7s/s64/photo.jpg",
      "userId": "13722425728445374451"
     },
     "user_tz": 240
    },
    "id": "y7vjfp3ZpvE1",
    "outputId": "bfb7c9ae-068a-4c93-8eef-60055ea7512e"
   },
   "outputs": [
    {
     "name": "stdout",
     "output_type": "stream",
     "text": [
      "👎\r\n"
     ]
    }
   ],
   "source": [
    "print(a.isOdd.symbol)"
   ]
  },
  {
   "cell_type": "markdown",
   "metadata": {
    "colab_type": "text",
    "id": "6unf1KGu31Ts"
   },
   "source": [
    "# Array and loop"
   ]
  },
  {
   "cell_type": "code",
   "execution_count": 51,
   "metadata": {
    "colab": {
     "base_uri": "https://localhost:8080/",
     "height": 34
    },
    "colab_type": "code",
    "executionInfo": {
     "elapsed": 530,
     "status": "ok",
     "timestamp": 1556655144690,
     "user": {
      "displayName": "Quan Tran",
      "photoUrl": "https://lh6.googleusercontent.com/-aVUouAgZ7FM/AAAAAAAAAAI/AAAAAAAAAIs/GMojDUKRi7s/s64/photo.jpg",
      "userId": "13722425728445374451"
     },
     "user_tz": 240
    },
    "id": "E44iFbe233EO",
    "outputId": "c11ff574-f1be-4828-c705-2e83c57e0b3e"
   },
   "outputs": [
    {
     "name": "stdout",
     "output_type": "stream",
     "text": [
      "Array<Int>\r\n"
     ]
    }
   ],
   "source": [
    "var arr = [1,2,3]\n",
    "var arr2 = arr\n",
    "var arr3: [Int] = arr2\n",
    "// var arr3: Array<Int> = arr2\n",
    "print(type(of: arr3))"
   ]
  },
  {
   "cell_type": "code",
   "execution_count": 52,
   "metadata": {
    "colab": {
     "base_uri": "https://localhost:8080/",
     "height": 102
    },
    "colab_type": "code",
    "executionInfo": {
     "elapsed": 689,
     "status": "ok",
     "timestamp": 1559320029309,
     "user": {
      "displayName": "Quan Tran",
      "photoUrl": "https://lh6.googleusercontent.com/-aVUouAgZ7FM/AAAAAAAAAAI/AAAAAAAAAIs/GMojDUKRi7s/s64/photo.jpg",
      "userId": "13722425728445374451"
     },
     "user_tz": 240
    },
    "id": "3befJOLz0XA6",
    "outputId": "e57939ce-b8e3-4eb6-fa43-0f8100c532d2"
   },
   "outputs": [
    {
     "name": "stdout",
     "output_type": "stream",
     "text": [
      "1\r\n",
      "2\r\n",
      "3\r\n",
      "[1, 2, 3]\r\n",
      "[1, 2]\r\n"
     ]
    }
   ],
   "source": [
    "for x in arr{\n",
    "  print(x)\n",
    "}\n",
    "\n",
    "print(arr[0...2])\n",
    "print(arr[0..<2])"
   ]
  },
  {
   "cell_type": "markdown",
   "metadata": {
    "colab_type": "text",
    "id": "XsXikBJm7j0d"
   },
   "source": [
    "# Array closure + map+ filter (python list comprehension)"
   ]
  },
  {
   "cell_type": "code",
   "execution_count": 53,
   "metadata": {
    "colab": {
     "base_uri": "https://localhost:8080/",
     "height": 68
    },
    "colab_type": "code",
    "executionInfo": {
     "elapsed": 804,
     "status": "ok",
     "timestamp": 1558396512623,
     "user": {
      "displayName": "Quan Tran",
      "photoUrl": "https://lh6.googleusercontent.com/-aVUouAgZ7FM/AAAAAAAAAAI/AAAAAAAAAIs/GMojDUKRi7s/s64/photo.jpg",
      "userId": "13722425728445374451"
     },
     "user_tz": 240
    },
    "id": "rlsXoP-I0XEL",
    "outputId": "655a3155-686c-4d8a-9bba-5ce3a26d1167"
   },
   "outputs": [
    {
     "name": "stdout",
     "output_type": "stream",
     "text": [
      "[11, 12, 13]\r\n",
      "[11, 12, 13]\r\n",
      "[true, false, true]\r\n"
     ]
    }
   ],
   "source": [
    "var arr = [1,2,3]\n",
    "var arr4 = arr.map({lambda in lambda + 10})\n",
    "print(arr4)\n",
    "//python: arr4 = map(lambda x: x+10,arr) or arr4 = [arr+10 for i in arr]\n",
    "\n",
    "// $0 (or $1,$2...) are just anonymous arguments\n",
    "print(arr.map({$0 + 10})) //same\n",
    "print( arr.map({$0.isOdd}) )"
   ]
  },
  {
   "cell_type": "code",
   "execution_count": 54,
   "metadata": {
    "colab": {
     "base_uri": "https://localhost:8080/",
     "height": 34
    },
    "colab_type": "code",
    "executionInfo": {
     "elapsed": 570,
     "status": "ok",
     "timestamp": 1558396519417,
     "user": {
      "displayName": "Quan Tran",
      "photoUrl": "https://lh6.googleusercontent.com/-aVUouAgZ7FM/AAAAAAAAAAI/AAAAAAAAAIs/GMojDUKRi7s/s64/photo.jpg",
      "userId": "13722425728445374451"
     },
     "user_tz": 240
    },
    "id": "_7O4lTYL5nOb",
    "outputId": "9b7ce352-5d5b-40e2-9856-6525bcc77984"
   },
   "outputs": [
    {
     "name": "stdout",
     "output_type": "stream",
     "text": [
      "[1, 3]\r\n"
     ]
    }
   ],
   "source": [
    "print( arr.filter{$0.isOdd} ) //TODO: make sure it's bool in closure"
   ]
  },
  {
   "cell_type": "code",
   "execution_count": 55,
   "metadata": {
    "colab": {
     "base_uri": "https://localhost:8080/",
     "height": 51
    },
    "colab_type": "code",
    "executionInfo": {
     "elapsed": 550,
     "status": "ok",
     "timestamp": 1556656288695,
     "user": {
      "displayName": "Quan Tran",
      "photoUrl": "https://lh6.googleusercontent.com/-aVUouAgZ7FM/AAAAAAAAAAI/AAAAAAAAAIs/GMojDUKRi7s/s64/photo.jpg",
      "userId": "13722425728445374451"
     },
     "user_tz": 240
    },
    "id": "flxBcxpQ6Kxs",
    "outputId": "44f0a489-547e-4a96-b7d4-d62263265e61"
   },
   "outputs": [
    {
     "name": "stdout",
     "output_type": "stream",
     "text": [
      "[11, 12, 13]\r\n",
      "[11, 12, 13]\r\n"
     ]
    }
   ],
   "source": [
    "//if closure is the only thing in the parenthesis -> no parenthesis\n",
    "print( arr.map{lambda in lambda+10} )\n",
    "print(arr.map{$0 + 10})"
   ]
  },
  {
   "cell_type": "code",
   "execution_count": 56,
   "metadata": {
    "colab": {
     "base_uri": "https://localhost:8080/",
     "height": 34
    },
    "colab_type": "code",
    "executionInfo": {
     "elapsed": 571,
     "status": "ok",
     "timestamp": 1556656290939,
     "user": {
      "displayName": "Quan Tran",
      "photoUrl": "https://lh6.googleusercontent.com/-aVUouAgZ7FM/AAAAAAAAAAI/AAAAAAAAAIs/GMojDUKRi7s/s64/photo.jpg",
      "userId": "13722425728445374451"
     },
     "user_tz": 240
    },
    "id": "8FFujpvO6Kzu",
    "outputId": "21acda16-d9c6-425d-ce03-74c51f927815"
   },
   "outputs": [
    {
     "name": "stdout",
     "output_type": "stream",
     "text": [
      "[3]\r\n"
     ]
    }
   ],
   "source": [
    "//combine map and filter (get rid of parenthesis)\n",
    "let temp = arr.map{$0+1}.filter{$0.isOdd}\n",
    "print(temp)"
   ]
  },
  {
   "cell_type": "markdown",
   "metadata": {
    "colab_type": "text",
    "id": "kVRqQ9zg-wY5"
   },
   "source": [
    "## reduce"
   ]
  },
  {
   "cell_type": "code",
   "execution_count": 57,
   "metadata": {
    "colab": {
     "base_uri": "https://localhost:8080/",
     "height": 34
    },
    "colab_type": "code",
    "executionInfo": {
     "elapsed": 502,
     "status": "ok",
     "timestamp": 1556656752794,
     "user": {
      "displayName": "Quan Tran",
      "photoUrl": "https://lh6.googleusercontent.com/-aVUouAgZ7FM/AAAAAAAAAAI/AAAAAAAAAIs/GMojDUKRi7s/s64/photo.jpg",
      "userId": "13722425728445374451"
     },
     "user_tz": 240
    },
    "id": "QSSZO7ZK6K19",
    "outputId": "280276cf-0041-4f9a-8a42-b51fb763dd59"
   },
   "outputs": [
    {
     "name": "stdout",
     "output_type": "stream",
     "text": [
      "6\r\n"
     ]
    }
   ],
   "source": [
    "// compute value from the array by going from an initial value\n",
    "print( arr.reduce(0,+)) //sum, add to 0"
   ]
  },
  {
   "cell_type": "code",
   "execution_count": 58,
   "metadata": {
    "colab": {
     "base_uri": "https://localhost:8080/",
     "height": 51
    },
    "colab_type": "code",
    "executionInfo": {
     "elapsed": 471,
     "status": "ok",
     "timestamp": 1556657085784,
     "user": {
      "displayName": "Quan Tran",
      "photoUrl": "https://lh6.googleusercontent.com/-aVUouAgZ7FM/AAAAAAAAAAI/AAAAAAAAAIs/GMojDUKRi7s/s64/photo.jpg",
      "userId": "13722425728445374451"
     },
     "user_tz": 240
    },
    "id": "xum-2xEC6K4V",
    "outputId": "76c30499-770c-4545-8501-1ab1f7d1c0c4"
   },
   "outputs": [
    {
     "name": "stdout",
     "output_type": "stream",
     "text": [
      "16\r\n",
      "6\r\n"
     ]
    }
   ],
   "source": [
    "print( arr.reduce(10,+)) //sum, add to 10\n",
    "print( arr.reduce(1,*))"
   ]
  },
  {
   "cell_type": "code",
   "execution_count": 59,
   "metadata": {
    "colab": {
     "base_uri": "https://localhost:8080/",
     "height": 34
    },
    "colab_type": "code",
    "executionInfo": {
     "elapsed": 513,
     "status": "ok",
     "timestamp": 1556658226994,
     "user": {
      "displayName": "Quan Tran",
      "photoUrl": "https://lh6.googleusercontent.com/-aVUouAgZ7FM/AAAAAAAAAAI/AAAAAAAAAIs/GMojDUKRi7s/s64/photo.jpg",
      "userId": "13722425728445374451"
     },
     "user_tz": 240
    },
    "id": "9iWT-l4XD2ek",
    "outputId": "4f6d362e-540f-4683-8c45-51ed7b35648c"
   },
   "outputs": [
    {
     "name": "stdout",
     "output_type": "stream",
     "text": [
      "Int\r\n"
     ]
    }
   ],
   "source": [
    "print(type(of:arr.reduce(10,+)))"
   ]
  },
  {
   "cell_type": "code",
   "execution_count": 60,
   "metadata": {
    "colab": {
     "base_uri": "https://localhost:8080/",
     "height": 333
    },
    "colab_type": "code",
    "executionInfo": {
     "elapsed": 535,
     "status": "error",
     "timestamp": 1558397204145,
     "user": {
      "displayName": "Quan Tran",
      "photoUrl": "https://lh6.googleusercontent.com/-aVUouAgZ7FM/AAAAAAAAAAI/AAAAAAAAAIs/GMojDUKRi7s/s64/photo.jpg",
      "userId": "13722425728445374451"
     },
     "user_tz": 240
    },
    "id": "WZKo908E_kuc",
    "outputId": "71ccf78b-dd01-4385-dd94-9fbae09028f4"
   },
   "outputs": [],
   "source": [
    "//adding any neccessary func in Array\n",
    "extension Array where Element : Numeric { //to specify array's item type as numbers\n",
    "  func doubleElements() -> Array {\n",
    "    return map{ $0 * 2 } // same as self.map{ $0 * 2 }\n",
    "  }  \n",
    "//   func sum() -> Int {\n",
    "//     return reduce(0,+)\n",
    "//   }\n",
    "}\n"
   ]
  },
  {
   "cell_type": "code",
   "execution_count": 61,
   "metadata": {
    "colab": {
     "base_uri": "https://localhost:8080/",
     "height": 85
    },
    "colab_type": "code",
    "executionInfo": {
     "elapsed": 480,
     "status": "ok",
     "timestamp": 1556658524412,
     "user": {
      "displayName": "Quan Tran",
      "photoUrl": "https://lh6.googleusercontent.com/-aVUouAgZ7FM/AAAAAAAAAAI/AAAAAAAAAIs/GMojDUKRi7s/s64/photo.jpg",
      "userId": "13722425728445374451"
     },
     "user_tz": 240
    },
    "id": "dEhtzxfpE3ty",
    "outputId": "d61fbbfd-54e9-4a72-bd9f-44230b0b2a6a"
   },
   "outputs": [
    {
     "data": {
      "text/plain": [
       "▿ 3 elements\n",
       "  - 0 : 2\n",
       "  - 1 : 4\n",
       "  - 2 : 6\n"
      ]
     },
     "execution_count": 61,
     "metadata": {},
     "output_type": "execute_result"
    }
   ],
   "source": [
    "arr.doubleElements()"
   ]
  },
  {
   "cell_type": "markdown",
   "metadata": {
    "colab_type": "text",
    "id": "mKZo1f0HEBZ3"
   },
   "source": [
    "# Dictionary"
   ]
  },
  {
   "cell_type": "code",
   "execution_count": 62,
   "metadata": {
    "colab": {
     "base_uri": "https://localhost:8080/",
     "height": 85
    },
    "colab_type": "code",
    "executionInfo": {
     "elapsed": 868,
     "status": "ok",
     "timestamp": 1558468264724,
     "user": {
      "displayName": "Quan Tran",
      "photoUrl": "https://lh6.googleusercontent.com/-aVUouAgZ7FM/AAAAAAAAAAI/AAAAAAAAAIs/GMojDUKRi7s/s64/photo.jpg",
      "userId": "13722425728445374451"
     },
     "user_tz": 240
    },
    "id": "CHB-X0UVj56o",
    "outputId": "27420520-d0fc-423d-c231-f52e04b13ef7"
   },
   "outputs": [
    {
     "name": "stdout",
     "output_type": "stream",
     "text": [
      "Dictionary<String, Double>\r\n",
      "Optional(1.0)\r\n",
      "nil\r\n",
      "[\"b\": 2.2, \"a\": 1.0, \"A\": 3.0]\r\n"
     ]
    }
   ],
   "source": [
    "var dict = [\"a\":1,\n",
    "           \"b\":2.2,\n",
    "           ]\n",
    "print( type(of: dict))\n",
    "print(dict[\"a\"])\n",
    "print(dict[\"A\"])\n",
    "dict[\"A\"] = 3\n",
    "print(dict)"
   ]
  },
  {
   "cell_type": "code",
   "execution_count": null,
   "metadata": {
    "colab": {},
    "colab_type": "code",
    "id": "SmFsR1LDrbb3"
   },
   "outputs": [],
   "source": []
  },
  {
   "cell_type": "code",
   "execution_count": 63,
   "metadata": {
    "colab": {
     "base_uri": "https://localhost:8080/",
     "height": 34
    },
    "colab_type": "code",
    "executionInfo": {
     "elapsed": 571,
     "status": "ok",
     "timestamp": 1558463657261,
     "user": {
      "displayName": "Quan Tran",
      "photoUrl": "https://lh6.googleusercontent.com/-aVUouAgZ7FM/AAAAAAAAAAI/AAAAAAAAAIs/GMojDUKRi7s/s64/photo.jpg",
      "userId": "13722425728445374451"
     },
     "user_tz": 240
    },
    "id": "pKRMwXx7lIiV",
    "outputId": "53c9260b-7e24-41b2-ac86-872224bb89c5"
   },
   "outputs": [
    {
     "name": "stdout",
     "output_type": "stream",
     "text": [
      "[\"A\": \"First\"]\r\n"
     ]
    }
   ],
   "source": [
    "//create empty dict (with fixed type)\n",
    "var dict: [String:String] = [:]\n",
    "dict[\"A\"]=\"First\"\n",
    "print(dict)"
   ]
  },
  {
   "cell_type": "code",
   "execution_count": 64,
   "metadata": {
    "colab": {
     "base_uri": "https://localhost:8080/",
     "height": 34
    },
    "colab_type": "code",
    "executionInfo": {
     "elapsed": 455,
     "status": "ok",
     "timestamp": 1558463717705,
     "user": {
      "displayName": "Quan Tran",
      "photoUrl": "https://lh6.googleusercontent.com/-aVUouAgZ7FM/AAAAAAAAAAI/AAAAAAAAAIs/GMojDUKRi7s/s64/photo.jpg",
      "userId": "13722425728445374451"
     },
     "user_tz": 240
    },
    "id": "ZzPmAXsAq-rw",
    "outputId": "63f495ee-6a49-4412-cb5e-dfcaa417000a"
   },
   "outputs": [
    {
     "name": "stdout",
     "output_type": "stream",
     "text": [
      "Here it is! First\r\n"
     ]
    }
   ],
   "source": [
    "// check if value in dict\n",
    "if let unwrapped = dict[\"A\"] {\n",
    "  print(\"Here it is! \\(unwrapped)\")\n",
    "}\n",
    "\n",
    "if let unwrapped = dict[\"B\"] {\n",
    "  print(\"Here it is! \\(unwrapped)\")\n",
    "}"
   ]
  },
  {
   "cell_type": "code",
   "execution_count": 65,
   "metadata": {
    "colab": {
     "base_uri": "https://localhost:8080/",
     "height": 34
    },
    "colab_type": "code",
    "executionInfo": {
     "elapsed": 638,
     "status": "ok",
     "timestamp": 1558463774874,
     "user": {
      "displayName": "Quan Tran",
      "photoUrl": "https://lh6.googleusercontent.com/-aVUouAgZ7FM/AAAAAAAAAAI/AAAAAAAAAIs/GMojDUKRi7s/s64/photo.jpg",
      "userId": "13722425728445374451"
     },
     "user_tz": 240
    },
    "id": "7MQaEu93rY9R",
    "outputId": "9144f4cd-d1ea-4baa-a6a5-a95b38359ce9"
   },
   "outputs": [
    {
     "name": "stdout",
     "output_type": "stream",
     "text": [
      "[:]\r\n"
     ]
    }
   ],
   "source": [
    "// remove key value from dict: set key value to nil\n",
    "dict[\"A\"] = nil\n",
    "print(dict)"
   ]
  },
  {
   "cell_type": "code",
   "execution_count": 66,
   "metadata": {
    "colab": {
     "base_uri": "https://localhost:8080/",
     "height": 119
    },
    "colab_type": "code",
    "executionInfo": {
     "elapsed": 531,
     "status": "ok",
     "timestamp": 1558464070229,
     "user": {
      "displayName": "Quan Tran",
      "photoUrl": "https://lh6.googleusercontent.com/-aVUouAgZ7FM/AAAAAAAAAAI/AAAAAAAAAIs/GMojDUKRi7s/s64/photo.jpg",
      "userId": "13722425728445374451"
     },
     "user_tz": 240
    },
    "id": "TKbVnhJ_rzJa",
    "outputId": "4bf3dd40-1ae8-4ec2-95a7-a1767d004d4e"
   },
   "outputs": [
    {
     "name": "stdout",
     "output_type": "stream",
     "text": [
      "b String\r\n",
      "a String\r\n",
      "K: b, V: 2.2\r\n",
      "K: a, V: 1.0\r\n",
      "(key: \"b\", value: 2.2) (key: String, value: Double) b 2.2\r\n",
      "(key: \"a\", value: 1.0) (key: String, value: Double) a 1.0\r\n"
     ]
    }
   ],
   "source": [
    "//loop through key  and (keys,items)\n",
    "var dict = [\"a\":1,\n",
    "           \"b\":2.2,\n",
    "           ]\n",
    "for k in dict.keys{\n",
    "  print(k,type(of: k))\n",
    "}\n",
    "\n",
    "for (k,v) in dict {\n",
    "  print(\"K: \\(k), V: \\(v)\")\n",
    "}\n",
    "\n",
    "// tuple can also have key value value\n",
    "for t in dict{\n",
    "  print(t,type(of: t),t.key,t.value)\n",
    "}"
   ]
  },
  {
   "cell_type": "code",
   "execution_count": 67,
   "metadata": {
    "colab": {
     "base_uri": "https://localhost:8080/",
     "height": 85
    },
    "colab_type": "code",
    "executionInfo": {
     "elapsed": 936,
     "status": "ok",
     "timestamp": 1558468709978,
     "user": {
      "displayName": "Quan Tran",
      "photoUrl": "https://lh6.googleusercontent.com/-aVUouAgZ7FM/AAAAAAAAAAI/AAAAAAAAAIs/GMojDUKRi7s/s64/photo.jpg",
      "userId": "13722425728445374451"
     },
     "user_tz": 240
    },
    "id": "70dKIFrrsuge",
    "outputId": "92b6edaa-dbc8-497f-bfff-3a27f6ff466f"
   },
   "outputs": [
    {
     "name": "stdout",
     "output_type": "stream",
     "text": [
      "[11.0, 12.2]\r\n",
      "[(key: \"a\", value: 1.0), (key: \"b\", value: 2.2)]\r\n",
      "[1.0, 2.2]\r\n",
      "[\"a\", \"b\"]\r\n"
     ]
    }
   ],
   "source": [
    "// dict comprehension\n",
    "var dict = [\"a\":1,\n",
    "           \"b\":2.2,\n",
    "           ]\n",
    "\n",
    "var arr = dict.map{$1+10}\n",
    "print(arr)\n",
    "\n",
    "var arrOfDictTuple = dict.map({$0})\n",
    "print(arrOfDictTuple)\n",
    "\n",
    "print(dict.map{$0.value})\n",
    "print(dict.map{$0.key})"
   ]
  },
  {
   "cell_type": "markdown",
   "metadata": {
    "colab_type": "text",
    "id": "aWVjYZtvxPji"
   },
   "source": [
    "# Set"
   ]
  },
  {
   "cell_type": "code",
   "execution_count": 68,
   "metadata": {
    "colab": {
     "base_uri": "https://localhost:8080/",
     "height": 51
    },
    "colab_type": "code",
    "executionInfo": {
     "elapsed": 420,
     "status": "ok",
     "timestamp": 1558468365194,
     "user": {
      "displayName": "Quan Tran",
      "photoUrl": "https://lh6.googleusercontent.com/-aVUouAgZ7FM/AAAAAAAAAAI/AAAAAAAAAIs/GMojDUKRi7s/s64/photo.jpg",
      "userId": "13722425728445374451"
     },
     "user_tz": 240
    },
    "id": "D0kONXOYxRhu",
    "outputId": "6f0fef58-8505-4b4e-fa52-f349bb9e5ee4"
   },
   "outputs": [
    {
     "name": "stdout",
     "output_type": "stream",
     "text": [
      "[2, 1, 4, 3] Set<Int>\r\n",
      "[]\r\n"
     ]
    }
   ],
   "source": [
    "var s: Set = [1,2,3,4,1]\n",
    "print(s,type(of: s))\n",
    "\n",
    "var s1: Set<String> = []\n",
    "print(s1)"
   ]
  },
  {
   "cell_type": "code",
   "execution_count": 69,
   "metadata": {
    "colab": {
     "base_uri": "https://localhost:8080/",
     "height": 34
    },
    "colab_type": "code",
    "executionInfo": {
     "elapsed": 440,
     "status": "ok",
     "timestamp": 1558468396874,
     "user": {
      "displayName": "Quan Tran",
      "photoUrl": "https://lh6.googleusercontent.com/-aVUouAgZ7FM/AAAAAAAAAAI/AAAAAAAAAIs/GMojDUKRi7s/s64/photo.jpg",
      "userId": "13722425728445374451"
     },
     "user_tz": 240
    },
    "id": "hV8W3Ua19Ami",
    "outputId": "67176e07-94bb-45da-b15f-32b24281be3f"
   },
   "outputs": [
    {
     "name": "stdout",
     "output_type": "stream",
     "text": [
      "yes\r\n"
     ]
    }
   ],
   "source": [
    "if s.contains(2) {\n",
    "  print(\"yes\")\n",
    "}"
   ]
  },
  {
   "cell_type": "code",
   "execution_count": 70,
   "metadata": {
    "colab": {},
    "colab_type": "code",
    "id": "ED3m4nSc8iL2"
   },
   "outputs": [],
   "source": [
    "// union/intersection\n"
   ]
  },
  {
   "cell_type": "code",
   "execution_count": 71,
   "metadata": {
    "colab": {
     "base_uri": "https://localhost:8080/",
     "height": 51
    },
    "colab_type": "code",
    "executionInfo": {
     "elapsed": 779,
     "status": "ok",
     "timestamp": 1558468603652,
     "user": {
      "displayName": "Quan Tran",
      "photoUrl": "https://lh6.googleusercontent.com/-aVUouAgZ7FM/AAAAAAAAAAI/AAAAAAAAAIs/GMojDUKRi7s/s64/photo.jpg",
      "userId": "13722425728445374451"
     },
     "user_tz": 240
    },
    "id": "OymngA8k8Qhp",
    "outputId": "756c141e-1830-45af-90ed-ac9a51a51ff4"
   },
   "outputs": [
    {
     "name": "stdout",
     "output_type": "stream",
     "text": [
      "[7, 3, 2, 1, 4, 5, 6] Set<Int>\r\n",
      "[4, 5, 3]\r\n"
     ]
    }
   ],
   "source": [
    "var s1: Set = [1,2,3,4,5]\n",
    "var s2: Set = [3,4,5,6,7]\n",
    "\n",
    "var s3 = s1.union(s2)\n",
    "\n",
    "print(s3,type(of: s3))\n",
    "print(s1.intersection(s2))"
   ]
  },
  {
   "cell_type": "markdown",
   "metadata": {
    "colab_type": "text",
    "id": "faj4TXnEoLRz"
   },
   "source": [
    "# Optional type"
   ]
  },
  {
   "cell_type": "code",
   "execution_count": 72,
   "metadata": {
    "colab": {
     "base_uri": "https://localhost:8080/",
     "height": 51
    },
    "colab_type": "code",
    "executionInfo": {
     "elapsed": 421,
     "status": "ok",
     "timestamp": 1558463069552,
     "user": {
      "displayName": "Quan Tran",
      "photoUrl": "https://lh6.googleusercontent.com/-aVUouAgZ7FM/AAAAAAAAAAI/AAAAAAAAAIs/GMojDUKRi7s/s64/photo.jpg",
      "userId": "13722425728445374451"
     },
     "user_tz": 240
    },
    "id": "qKrJ0MHd_k1Z",
    "outputId": "f597f92f-72c7-4709-eb23-1d924e9a11bf"
   },
   "outputs": [
    {
     "name": "stdout",
     "output_type": "stream",
     "text": [
      "Optional(\"A\") Optional<String>\r\n",
      "nil Optional<String>\r\n"
     ]
    }
   ],
   "source": [
    "var temp: String? = \"A\"\n",
    "print(temp, type(of: temp))\n",
    "temp = nil\n",
    "print(temp, type(of: temp))"
   ]
  },
  {
   "cell_type": "code",
   "execution_count": 0,
   "metadata": {
    "colab": {
     "base_uri": "https://localhost:8080/",
     "height": 129
    },
    "colab_type": "code",
    "executionInfo": {
     "elapsed": 417,
     "status": "error",
     "timestamp": 1558463079424,
     "user": {
      "displayName": "Quan Tran",
      "photoUrl": "https://lh6.googleusercontent.com/-aVUouAgZ7FM/AAAAAAAAAAI/AAAAAAAAAIs/GMojDUKRi7s/s64/photo.jpg",
      "userId": "13722425728445374451"
     },
     "user_tz": 240
    },
    "id": "ZGb_Cf89n9WG",
    "outputId": "85d41c3c-4d63-409f-db60-d6ad7efbc1c7"
   },
   "outputs": [
    {
     "ename": "",
     "evalue": "ignored",
     "output_type": "error",
     "traceback": [
      "error: <Cell 45>:3:8: error: 'nil' cannot be assigned to type 'String'\ntemp = nil\n       ^\n\n"
     ]
    }
   ],
   "source": [
    "var temp: String = \"A\"\n",
    "print(temp, type(of: temp))\n",
    "temp = nil // throw error"
   ]
  },
  {
   "cell_type": "code",
   "execution_count": 73,
   "metadata": {
    "colab": {
     "base_uri": "https://localhost:8080/",
     "height": 51
    },
    "colab_type": "code",
    "executionInfo": {
     "elapsed": 434,
     "status": "ok",
     "timestamp": 1558463358159,
     "user": {
      "displayName": "Quan Tran",
      "photoUrl": "https://lh6.googleusercontent.com/-aVUouAgZ7FM/AAAAAAAAAAI/AAAAAAAAAIs/GMojDUKRi7s/s64/photo.jpg",
      "userId": "13722425728445374451"
     },
     "user_tz": 240
    },
    "id": "VcrftBjin9LD",
    "outputId": "3b72aada-29b4-4e2f-c176-d8be98e89721"
   },
   "outputs": [
    {
     "name": "stdout",
     "output_type": "stream",
     "text": [
      "Optional(\"A\") Optional<String>\r\n",
      "A String\r\n"
     ]
    }
   ],
   "source": [
    "// 'unwrap': convert to its actual value\n",
    "var temp: String? = \"A\"\n",
    "print(temp, type(of: temp))\n",
    "\n",
    "let unwrapped = temp!\n",
    "print(unwrapped,type(of: unwrapped))\n"
   ]
  },
  {
   "cell_type": "code",
   "execution_count": 74,
   "metadata": {
    "colab": {
     "base_uri": "https://localhost:8080/",
     "height": 197
    },
    "colab_type": "code",
    "executionInfo": {
     "elapsed": 294,
     "status": "error",
     "timestamp": 1558463369384,
     "user": {
      "displayName": "Quan Tran",
      "photoUrl": "https://lh6.googleusercontent.com/-aVUouAgZ7FM/AAAAAAAAAAI/AAAAAAAAAIs/GMojDUKRi7s/s64/photo.jpg",
      "userId": "13722425728445374451"
     },
     "user_tz": 240
    },
    "id": "hNrSx5q8p5f2",
    "outputId": "9093a78c-d6e7-4957-cb33-0c9639397d6e"
   },
   "outputs": [
    {
     "name": "stdout",
     "output_type": "stream",
     "text": [
      "Fatal error: Unexpectedly found nil while unwrapping an Optional value\n",
      "Current stack trace:\n",
      "0    libswiftCore.so                    0x00007fb7ca873620 _swift_stdlib_reportFatalError + 69\n",
      "1    libswiftCore.so                    0x00007fb7ca786ed6 <unavailable> + 2821846\n",
      "2    libswiftCore.so                    0x00007fb7ca787255 <unavailable> + 2822741\n",
      "3    libswiftCore.so                    0x00007fb7ca601d30 _fatalErrorMessage(_:_:file:line:flags:) + 19\n"
     ]
    },
    {
     "ename": "",
     "evalue": "",
     "output_type": "error",
     "traceback": [
      "Current stack trace:",
      "\tframe #2: 0x00007fb7d5ce5655 $__lldb_expr451`main at <Cell 74>:2:21"
     ]
    }
   ],
   "source": [
    "temp = nil\n",
    "let unwrapped = temp! //error\n"
   ]
  },
  {
   "cell_type": "code",
   "execution_count": 75,
   "metadata": {
    "colab": {
     "base_uri": "https://localhost:8080/",
     "height": 51
    },
    "colab_type": "code",
    "executionInfo": {
     "elapsed": 337,
     "status": "ok",
     "timestamp": 1558463541492,
     "user": {
      "displayName": "Quan Tran",
      "photoUrl": "https://lh6.googleusercontent.com/-aVUouAgZ7FM/AAAAAAAAAAI/AAAAAAAAAIs/GMojDUKRi7s/s64/photo.jpg",
      "userId": "13722425728445374451"
     },
     "user_tz": 240
    },
    "id": "4dEPZliXqCl9",
    "outputId": "a36a2a9c-27c4-4f07-fbcf-98f1afd64eee"
   },
   "outputs": [
    {
     "name": "stdout",
     "output_type": "stream",
     "text": [
      "Exist! A\r\n"
     ]
    }
   ],
   "source": [
    "//better way to unwrap\n",
    "var temp: String? = \"A\"\n",
    "\n",
    "if let unwrapped = temp {\n",
    "  print(\"Exist! \\(unwrapped)\")\n",
    "}\n",
    "else {\n",
    "  print(\"Not exist\")\n",
    "}\n",
    "\n",
    "temp = nil\n",
    "if let unwrapped = temp {\n",
    "  print(unwrapped)\n",
    "}\n"
   ]
  },
  {
   "cell_type": "markdown",
   "metadata": {
    "colab_type": "text",
    "id": "lO8lyJiyBUIA"
   },
   "source": [
    "# Closure\n",
    "\n",
    "https://docs.swift.org/swift-book/LanguageGuide/Closures.html"
   ]
  },
  {
   "cell_type": "code",
   "execution_count": 76,
   "metadata": {
    "colab": {
     "base_uri": "https://localhost:8080/",
     "height": 34
    },
    "colab_type": "code",
    "executionInfo": {
     "elapsed": 253,
     "status": "ok",
     "timestamp": 1559312435484,
     "user": {
      "displayName": "Quan Tran",
      "photoUrl": "https://lh6.googleusercontent.com/-aVUouAgZ7FM/AAAAAAAAAAI/AAAAAAAAAIs/GMojDUKRi7s/s64/photo.jpg",
      "userId": "13722425728445374451"
     },
     "user_tz": 240
    },
    "id": "rLatzB5qx5wI",
    "outputId": "a41cb2cb-950d-4a87-b37a-18dab978098a"
   },
   "outputs": [
    {
     "name": "stdout",
     "output_type": "stream",
     "text": [
      "(Int) -> Int\r\n"
     ]
    }
   ],
   "source": [
    "// var tempClosure = { (lambda: Int) -> Int in return lambda + 10 }\n",
    "// var tempClosure = {lambda in lambda + 10}\n",
    "var tempClosure = {$0 + 10}\n",
    "\n",
    "print(type(of: tempClosure))"
   ]
  },
  {
   "cell_type": "markdown",
   "metadata": {
    "colab_type": "text",
    "id": "FZFLKeBRy27L"
   },
   "source": [
    "Closure is essentially just function with (input) -> ouput"
   ]
  },
  {
   "cell_type": "code",
   "execution_count": 77,
   "metadata": {
    "colab": {
     "base_uri": "https://localhost:8080/",
     "height": 51
    },
    "colab_type": "code",
    "executionInfo": {
     "elapsed": 1092,
     "status": "ok",
     "timestamp": 1559312439305,
     "user": {
      "displayName": "Quan Tran",
      "photoUrl": "https://lh6.googleusercontent.com/-aVUouAgZ7FM/AAAAAAAAAAI/AAAAAAAAAIs/GMojDUKRi7s/s64/photo.jpg",
      "userId": "13722425728445374451"
     },
     "user_tz": 240
    },
    "id": "Ng1GtpzQyL0w",
    "outputId": "05744137-0e5e-4e0e-b0a7-dce85e834011"
   },
   "outputs": [
    {
     "name": "stdout",
     "output_type": "stream",
     "text": [
      "15\r\n",
      "[11, 12, 13]\r\n"
     ]
    }
   ],
   "source": [
    "print(tempClosure(5))\n",
    "var arr=[1,2,3]\n",
    "print(arr.map(tempClosure))"
   ]
  },
  {
   "cell_type": "code",
   "execution_count": 78,
   "metadata": {
    "colab": {
     "base_uri": "https://localhost:8080/",
     "height": 68
    },
    "colab_type": "code",
    "executionInfo": {
     "elapsed": 531,
     "status": "ok",
     "timestamp": 1559312119148,
     "user": {
      "displayName": "Quan Tran",
      "photoUrl": "https://lh6.googleusercontent.com/-aVUouAgZ7FM/AAAAAAAAAAI/AAAAAAAAAIs/GMojDUKRi7s/s64/photo.jpg",
      "userId": "13722425728445374451"
     },
     "user_tz": 240
    },
    "id": "PZLOgjEgx64y",
    "outputId": "23ea327a-001a-4b39-bb0d-0640a84b9f4a"
   },
   "outputs": [
    {
     "name": "stdout",
     "output_type": "stream",
     "text": [
      "true\r\n",
      "false\r\n",
      "[1, 3]\r\n"
     ]
    }
   ],
   "source": [
    "var arr = [1,2,3]\n",
    "var oddClosure = {lambda in lambda & 1 != 0}\n",
    "print(oddClosure(1))\n",
    "print(oddClosure(2))\n",
    "print(arr.filter(oddClosure))"
   ]
  },
  {
   "cell_type": "code",
   "execution_count": 79,
   "metadata": {
    "colab": {
     "base_uri": "https://localhost:8080/",
     "height": 34
    },
    "colab_type": "code",
    "executionInfo": {
     "elapsed": 739,
     "status": "ok",
     "timestamp": 1559312121380,
     "user": {
      "displayName": "Quan Tran",
      "photoUrl": "https://lh6.googleusercontent.com/-aVUouAgZ7FM/AAAAAAAAAAI/AAAAAAAAAIs/GMojDUKRi7s/s64/photo.jpg",
      "userId": "13722425728445374451"
     },
     "user_tz": 240
    },
    "id": "PHJ6nTTeBXjP",
    "outputId": "34b6b452-b004-4669-b4d3-4775cfacffec"
   },
   "outputs": [
    {
     "name": "stdout",
     "output_type": "stream",
     "text": [
      "[5, 4, 3, 1, 0]\r\n"
     ]
    }
   ],
   "source": [
    "let intArr: Array<Int>=[0,5,4,1,3]\n",
    "\n",
    "func desc(_ s1: Int,_ s2: Int) -> Bool {\n",
    "  return s1>s2\n",
    "}\n",
    "var arrSorted = intArr.sorted(by: desc)\n",
    "print(arrSorted)"
   ]
  },
  {
   "cell_type": "code",
   "execution_count": 80,
   "metadata": {
    "colab": {
     "base_uri": "https://localhost:8080/",
     "height": 68
    },
    "colab_type": "code",
    "executionInfo": {
     "elapsed": 878,
     "status": "ok",
     "timestamp": 1559313070792,
     "user": {
      "displayName": "Quan Tran",
      "photoUrl": "https://lh6.googleusercontent.com/-aVUouAgZ7FM/AAAAAAAAAAI/AAAAAAAAAIs/GMojDUKRi7s/s64/photo.jpg",
      "userId": "13722425728445374451"
     },
     "user_tz": 240
    },
    "id": "o0V00kSXuiKB",
    "outputId": "5deca29c-643e-4eaf-d096-043bd3b3b356"
   },
   "outputs": [
    {
     "name": "stdout",
     "output_type": "stream",
     "text": [
      "(Int, Int) -> Bool\r\n",
      "true\r\n",
      "[5, 4, 3, 1, 0]\r\n"
     ]
    }
   ],
   "source": [
    "//replace function with closure\n",
    "\n",
    "// var sortClosure = { (s1: Int,s2: Int) -> Bool in return s1 > s2 }\n",
    "// var sortClosure = { (s1,s2) in s1>s2}\n",
    "var sortClosure = { $0 > $1 }\n",
    "print(type(of: sortClosure))\n",
    "print(sortClosure(2,1))\n",
    "var arrSorted = intArr.sorted(by: sortClosure)\n",
    "print(arrSorted)"
   ]
  },
  {
   "cell_type": "code",
   "execution_count": 81,
   "metadata": {
    "colab": {
     "base_uri": "https://localhost:8080/",
     "height": 34
    },
    "colab_type": "code",
    "executionInfo": {
     "elapsed": 951,
     "status": "ok",
     "timestamp": 1559313095708,
     "user": {
      "displayName": "Quan Tran",
      "photoUrl": "https://lh6.googleusercontent.com/-aVUouAgZ7FM/AAAAAAAAAAI/AAAAAAAAAIs/GMojDUKRi7s/s64/photo.jpg",
      "userId": "13722425728445374451"
     },
     "user_tz": 240
    },
    "id": "OR6c9JaTTTcA",
    "outputId": "0dd5b33b-1003-4505-e102-b28df4c05a34"
   },
   "outputs": [
    {
     "name": "stdout",
     "output_type": "stream",
     "text": [
      "[5, 4, 3, 1, 0]\r\n"
     ]
    }
   ],
   "source": [
    "///shortest closure using operator method\n",
    "var arrSorted = intArr.sorted(by: >)\n",
    "print(arrSorted)"
   ]
  },
  {
   "cell_type": "markdown",
   "metadata": {
    "colab_type": "text",
    "id": "0Cv-7klKTadP"
   },
   "source": [
    "## Trailing closure"
   ]
  },
  {
   "cell_type": "code",
   "execution_count": 82,
   "metadata": {
    "colab": {
     "base_uri": "https://localhost:8080/",
     "height": 51
    },
    "colab_type": "code",
    "executionInfo": {
     "elapsed": 366,
     "status": "ok",
     "timestamp": 1559314606784,
     "user": {
      "displayName": "Quan Tran",
      "photoUrl": "https://lh6.googleusercontent.com/-aVUouAgZ7FM/AAAAAAAAAAI/AAAAAAAAAIs/GMojDUKRi7s/s64/photo.jpg",
      "userId": "13722425728445374451"
     },
     "user_tz": 240
    },
    "id": "eTcbt7uDTd1m",
    "outputId": "375e23c6-4a7d-4daf-b9a0-c2369f0e98ab"
   },
   "outputs": [
    {
     "name": "stdout",
     "output_type": "stream",
     "text": [
      "15\r\n",
      "15\r\n"
     ]
    }
   ],
   "source": [
    "func tempFunc(inp1: Int, _ closure: (_ inp: Int) -> Int ) -> Int {\n",
    "  return closure(inp1)\n",
    "}\n",
    "var temp = tempFunc( inp1 : 5 ) { $0 + 10 }\n",
    "print(temp)\n",
    "var temp2 = tempFunc( inp1 : 5, { $0 + 10 } )\n",
    "print(temp2)"
   ]
  },
  {
   "cell_type": "code",
   "execution_count": 83,
   "metadata": {
    "colab": {
     "base_uri": "https://localhost:8080/",
     "height": 68
    },
    "colab_type": "code",
    "executionInfo": {
     "elapsed": 416,
     "status": "ok",
     "timestamp": 1559320058710,
     "user": {
      "displayName": "Quan Tran",
      "photoUrl": "https://lh6.googleusercontent.com/-aVUouAgZ7FM/AAAAAAAAAAI/AAAAAAAAAIs/GMojDUKRi7s/s64/photo.jpg",
      "userId": "13722425728445374451"
     },
     "user_tz": 240
    },
    "id": "6YpE8Ymkt4zs",
    "outputId": "8230fe8b-4941-4d40-a0b9-a907d9545d07"
   },
   "outputs": [
    {
     "data": {
      "text/plain": [
       "▿ 2 elements\n",
       "  - 0 : 0\n",
       "  - 1 : 1\n"
      ]
     },
     "execution_count": 83,
     "metadata": {},
     "output_type": "execute_result"
    }
   ],
   "source": [
    "Array(0..<2)"
   ]
  },
  {
   "cell_type": "code",
   "execution_count": 84,
   "metadata": {
    "colab": {
     "base_uri": "https://localhost:8080/",
     "height": 85
    },
    "colab_type": "code",
    "executionInfo": {
     "elapsed": 319,
     "status": "ok",
     "timestamp": 1559320070249,
     "user": {
      "displayName": "Quan Tran",
      "photoUrl": "https://lh6.googleusercontent.com/-aVUouAgZ7FM/AAAAAAAAAAI/AAAAAAAAAIs/GMojDUKRi7s/s64/photo.jpg",
      "userId": "13722425728445374451"
     },
     "user_tz": 240
    },
    "id": "TAnd0Fxnt9lc",
    "outputId": "f6974864-1f2a-4539-db08-9ac373c78550"
   },
   "outputs": [
    {
     "data": {
      "text/plain": [
       "▿ 1 element\n",
       "  ▿ 0 : Range(0..<2)\n",
       "    - lowerBound : 0\n",
       "    - upperBound : 2\n"
      ]
     },
     "execution_count": 84,
     "metadata": {},
     "output_type": "execute_result"
    }
   ],
   "source": [
    "[0..<2]"
   ]
  },
  {
   "cell_type": "markdown",
   "metadata": {
    "colab_type": "text",
    "id": "TMRsxvpWq2o4"
   },
   "source": [
    "# Python importing\n"
   ]
  },
  {
   "cell_type": "code",
   "execution_count": 0,
   "metadata": {
    "colab": {},
    "colab_type": "code",
    "id": "7XeacEVoALrA"
   },
   "outputs": [],
   "source": [
    "//a library in swift\n",
    "import Python"
   ]
  },
  {
   "cell_type": "code",
   "execution_count": 0,
   "metadata": {
    "colab": {},
    "colab_type": "code",
    "id": "76KHpvYvAPQA"
   },
   "outputs": [],
   "source": [
    "public let np = Python.import(\"numpy\")\n",
    "public let plt = Python.import(\"matplotlib.pyplot\")"
   ]
  },
  {
   "cell_type": "code",
   "execution_count": 0,
   "metadata": {
    "colab": {
     "base_uri": "https://localhost:8080/",
     "height": 34
    },
    "colab_type": "code",
    "executionInfo": {
     "elapsed": 454,
     "status": "ok",
     "timestamp": 1556593880400,
     "user": {
      "displayName": "Quan Tran",
      "photoUrl": "https://lh6.googleusercontent.com/-aVUouAgZ7FM/AAAAAAAAAAI/AAAAAAAAAIs/GMojDUKRi7s/s64/photo.jpg",
      "userId": "13722425728445374451"
     },
     "user_tz": 240
    },
    "id": "IQFk9Jm2OZSm",
    "outputId": "50c65752-27a9-49d1-c277-49088a38b2d2"
   },
   "outputs": [
    {
     "name": "stdout",
     "output_type": "stream",
     "text": [
      "PythonObject\r\n"
     ]
    }
   ],
   "source": [
    "print(type(of: np))"
   ]
  },
  {
   "cell_type": "code",
   "execution_count": 0,
   "metadata": {
    "colab": {
     "base_uri": "https://localhost:8080/",
     "height": 51
    },
    "colab_type": "code",
    "executionInfo": {
     "elapsed": 380,
     "status": "ok",
     "timestamp": 1556593894552,
     "user": {
      "displayName": "Quan Tran",
      "photoUrl": "https://lh6.googleusercontent.com/-aVUouAgZ7FM/AAAAAAAAAAI/AAAAAAAAAIs/GMojDUKRi7s/s64/photo.jpg",
      "userId": "13722425728445374451"
     },
     "user_tz": 240
    },
    "id": "4B-Xxp0vAQ3A",
    "outputId": "e94b38d7-c17b-4a07-b52f-40efd0d814f0"
   },
   "outputs": [
    {
     "name": "stdout",
     "output_type": "stream",
     "text": [
      "[1 2 3 4]\r\n",
      "PythonObject\r\n"
     ]
    }
   ],
   "source": [
    "let npArray = np.array([1,2,3,4])\n",
    "print(npArray)\n",
    "print(type(of: npArray))"
   ]
  },
  {
   "cell_type": "code",
   "execution_count": 0,
   "metadata": {
    "colab": {
     "base_uri": "https://localhost:8080/",
     "height": 51
    },
    "colab_type": "code",
    "executionInfo": {
     "elapsed": 461,
     "status": "ok",
     "timestamp": 1556593945943,
     "user": {
      "displayName": "Quan Tran",
      "photoUrl": "https://lh6.googleusercontent.com/-aVUouAgZ7FM/AAAAAAAAAAI/AAAAAAAAAIs/GMojDUKRi7s/s64/photo.jpg",
      "userId": "13722425728445374451"
     },
     "user_tz": 240
    },
    "id": "MSEZ3ajmOgpB",
    "outputId": "c15ccc68-e2b7-44ea-faa6-e3e1d52d769f"
   },
   "outputs": [
    {
     "name": "stdout",
     "output_type": "stream",
     "text": [
      "Array<Int>\r\n",
      "[1 2 3 4]\r\n"
     ]
    }
   ],
   "source": [
    "let arr = [1,2,3,4]\n",
    "print(type(of: arr))\n",
    "let npArr = np.array(arr)\n",
    "print(npArr)"
   ]
  },
  {
   "cell_type": "code",
   "execution_count": 0,
   "metadata": {
    "colab": {},
    "colab_type": "code",
    "id": "F5RxN-iTUiHU"
   },
   "outputs": [],
   "source": []
  },
  {
   "cell_type": "code",
   "execution_count": 0,
   "metadata": {
    "colab": {},
    "colab_type": "code",
    "id": "ffFgnQh78RmE"
   },
   "outputs": [],
   "source": []
  }
 ],
 "metadata": {
  "colab": {
   "collapsed_sections": [
    "-6E0Y_Q8UCJ8",
    "071Liym9UWsd",
    "57rbpym3Uj5E",
    "XpuKzehZ3ZxQ",
    "EUGMQpjPirG3",
    "AapG-Ev43tzt",
    "mKZo1f0HEBZ3",
    "aWVjYZtvxPji",
    "TMRsxvpWq2o4"
   ],
   "name": "swift_basic.ipynb",
   "provenance": [
    {
     "file_id": "https://github.com/tensorflow/swift/blob/master/notebooks/blank_swift.ipynb",
     "timestamp": 1556120010091
    }
   ],
   "version": "0.3.2"
  },
  "kernelspec": {
   "display_name": "Swift",
   "language": "swift",
   "name": "swift"
  },
  "language_info": {
   "file_extension": ".swift",
   "mimetype": "text/x-swift",
   "name": "swift",
   "version": ""
  }
 },
 "nbformat": 4,
 "nbformat_minor": 1
}
